{
 "cells": [
  {
   "cell_type": "code",
   "execution_count": 1,
   "metadata": {},
   "outputs": [],
   "source": [
    "%matplotlib inline\n",
    "import matplotlib.pyplot as plt\n",
    "import seaborn as sns\n",
    "import pandas as pd\n",
    "from sklearn.model_selection import train_test_split\n",
    "from sklearn.preprocessing import OneHotEncoder, StandardScaler\n",
    "from sklearn.base import BaseEstimator, TransformerMixin\n",
    "from sklearn.pipeline import Pipeline, make_pipeline\n",
    "from sklearn.preprocessing import FunctionTransformer\n",
    "from sklearn.neural_network import MLPClassifier\n",
    "from sklearn import set_config\n",
    "set_config(display='diagram') \n",
    "import numpy as np"
   ]
  },
  {
   "cell_type": "markdown",
   "metadata": {},
   "source": [
    "## Khám phá dữ liệu\n"
   ]
  },
  {
   "cell_type": "code",
   "execution_count": 2,
   "metadata": {
    "scrolled": false
   },
   "outputs": [
    {
     "data": {
      "text/html": [
       "<div>\n",
       "<style scoped>\n",
       "    .dataframe tbody tr th:only-of-type {\n",
       "        vertical-align: middle;\n",
       "    }\n",
       "\n",
       "    .dataframe tbody tr th {\n",
       "        vertical-align: top;\n",
       "    }\n",
       "\n",
       "    .dataframe thead th {\n",
       "        text-align: right;\n",
       "    }\n",
       "</style>\n",
       "<table border=\"1\" class=\"dataframe\">\n",
       "  <thead>\n",
       "    <tr style=\"text-align: right;\">\n",
       "      <th></th>\n",
       "      <th>Level</th>\n",
       "      <th>PM2.5</th>\n",
       "      <th>PM10</th>\n",
       "      <th>O3</th>\n",
       "      <th>NO2</th>\n",
       "      <th>SO2</th>\n",
       "      <th>CO</th>\n",
       "      <th>City</th>\n",
       "    </tr>\n",
       "  </thead>\n",
       "  <tbody>\n",
       "    <tr>\n",
       "      <th>0</th>\n",
       "      <td>Very Unhealthy</td>\n",
       "      <td>227.5</td>\n",
       "      <td>NaN</td>\n",
       "      <td>NaN</td>\n",
       "      <td>NaN</td>\n",
       "      <td>NaN</td>\n",
       "      <td>NaN</td>\n",
       "      <td>NaN</td>\n",
       "    </tr>\n",
       "    <tr>\n",
       "      <th>1</th>\n",
       "      <td>Very Unhealthy</td>\n",
       "      <td>137.7</td>\n",
       "      <td>201.2</td>\n",
       "      <td>9.8</td>\n",
       "      <td>35.0</td>\n",
       "      <td>12.6</td>\n",
       "      <td>1181.7</td>\n",
       "      <td>NaN</td>\n",
       "    </tr>\n",
       "    <tr>\n",
       "      <th>2</th>\n",
       "      <td>Very Unhealthy</td>\n",
       "      <td>157.4</td>\n",
       "      <td>2.2</td>\n",
       "      <td>NaN</td>\n",
       "      <td>NaN</td>\n",
       "      <td>NaN</td>\n",
       "      <td>NaN</td>\n",
       "      <td>NaN</td>\n",
       "    </tr>\n",
       "    <tr>\n",
       "      <th>3</th>\n",
       "      <td>Unhealthy</td>\n",
       "      <td>112.2</td>\n",
       "      <td>198.5</td>\n",
       "      <td>14.8</td>\n",
       "      <td>NaN</td>\n",
       "      <td>NaN</td>\n",
       "      <td>NaN</td>\n",
       "      <td>NaN</td>\n",
       "    </tr>\n",
       "    <tr>\n",
       "      <th>4</th>\n",
       "      <td>Unhealthy</td>\n",
       "      <td>104.5</td>\n",
       "      <td>NaN</td>\n",
       "      <td>NaN</td>\n",
       "      <td>NaN</td>\n",
       "      <td>NaN</td>\n",
       "      <td>NaN</td>\n",
       "      <td>NaN</td>\n",
       "    </tr>\n",
       "  </tbody>\n",
       "</table>\n",
       "</div>"
      ],
      "text/plain": [
       "            Level  PM2.5   PM10    O3   NO2   SO2      CO City\n",
       "0  Very Unhealthy  227.5    NaN   NaN   NaN   NaN     NaN  NaN\n",
       "1  Very Unhealthy  137.7  201.2   9.8  35.0  12.6  1181.7  NaN\n",
       "2  Very Unhealthy  157.4    2.2   NaN   NaN   NaN     NaN  NaN\n",
       "3       Unhealthy  112.2  198.5  14.8   NaN   NaN     NaN  NaN\n",
       "4       Unhealthy  104.5    NaN   NaN   NaN   NaN     NaN  NaN"
      ]
     },
     "execution_count": 2,
     "metadata": {},
     "output_type": "execute_result"
    }
   ],
   "source": [
    "data_df = pd.read_csv('total_data.csv', index_col=0)\n",
    "data_df.head()"
   ]
  },
  {
   "cell_type": "markdown",
   "metadata": {},
   "source": [
    "**Dữ liệu có bao nhiêu dòng và bao nhiêu cột**"
   ]
  },
  {
   "cell_type": "code",
   "execution_count": 3,
   "metadata": {},
   "outputs": [
    {
     "data": {
      "text/plain": [
       "(1443, 8)"
      ]
     },
     "execution_count": 3,
     "metadata": {},
     "output_type": "execute_result"
    }
   ],
   "source": [
    "data_df.shape"
   ]
  },
  {
   "cell_type": "markdown",
   "metadata": {},
   "source": [
    "**Kiểm tra xem có các dòng có dữ liệu trùng nhau hay không**"
   ]
  },
  {
   "cell_type": "code",
   "execution_count": 4,
   "metadata": {
    "scrolled": true
   },
   "outputs": [
    {
     "data": {
      "text/plain": [
       "399"
      ]
     },
     "execution_count": 4,
     "metadata": {},
     "output_type": "execute_result"
    }
   ],
   "source": [
    "data_df.duplicated().sum()"
   ]
  },
  {
   "cell_type": "markdown",
   "metadata": {},
   "source": [
    "**Loại bỏ những dòng có dữ liệu trùng nhau**"
   ]
  },
  {
   "cell_type": "code",
   "execution_count": 5,
   "metadata": {},
   "outputs": [
    {
     "data": {
      "text/plain": [
       "(1044, 8)"
      ]
     },
     "execution_count": 5,
     "metadata": {},
     "output_type": "execute_result"
    }
   ],
   "source": [
    "data_df = data_df.drop_duplicates()\n",
    "data_df.shape"
   ]
  },
  {
   "cell_type": "markdown",
   "metadata": {},
   "source": [
    "**Mỗi dòng có ý nghĩa gì? Có vấn đề các dòng có ý nghĩa khác nhau không?**\n",
    "\n",
    "Mỗi dòng là dữ liệu chất lượng không khí của một địa điểm tại một thời điểm nhất định"
   ]
  },
  {
   "cell_type": "markdown",
   "metadata": {},
   "source": [
    "**Ý nghĩa của các cột trong dataframe**\n",
    "\n",
    "| Tên cột | Ý nghĩa | Đơn vị |\n",
    "| :-: | :-: | :-: |\n",
    "| City | Tên thành phố hoặc địa điểm |  |\n",
    "| Level | Cấp độ chất lượng không khí |  |\n",
    "| PM2.5 | Mật độ các hạt bụi có kích thước đường kính nhỏ hơn hoặc bằng 2.5 µm trong không khí| µg/m³ |\n",
    "| PM10 | Mật độ các hạt bụi có kích thước đường kính từ 2.5 tới 10 µm trong không khí| µg/m³ |\n",
    "| O3 | Mật độ O3 trong không khí| µg/m³ |\n",
    "| NO2 | Mật độ NO2 trong không khí| µg/m³ |\n",
    "| SO2 | Mật độ SO2 trong không khí| µg/m³ |\n",
    "| CO | Mật độ CO trong không khí| µg/m³ |"
   ]
  },
  {
   "cell_type": "markdown",
   "metadata": {},
   "source": [
    "## Đưa ra câu hỏi cần trả lời\n",
    "\n",
    "Dựa vào ý nghĩa các cột và việc tìm hiểu chủ đề đánh giá chất lượng không khí, ta xác định cột ouput là cột Level. Nhiệm vụ của đồ án này sẽ là tiến hành dự đoán cấp độ không khí. Cấp độ chất lượng không khí được suy ra từ các input là mật độ PM2.5, PM10 và các khí O3, NO2, SO2, CO. Cột City sẽ được loại bỏ khỏi input vì nó không ảnh hưởng đến kết quả output được suy ra."
   ]
  },
  {
   "cell_type": "code",
   "execution_count": 6,
   "metadata": {},
   "outputs": [],
   "source": [
    "#xóa cột City vì là cột định danh không cần thiết cho mô hình\n",
    "data_df = data_df.drop(columns=['City'])"
   ]
  },
  {
   "cell_type": "markdown",
   "metadata": {},
   "source": [
    "**Kiểu dữ liệu của output**\n",
    "\n",
    "Ta thấy output có dạng categories."
   ]
  },
  {
   "cell_type": "code",
   "execution_count": 7,
   "metadata": {},
   "outputs": [
    {
     "data": {
      "text/plain": [
       "dtype('O')"
      ]
     },
     "execution_count": 7,
     "metadata": {},
     "output_type": "execute_result"
    }
   ],
   "source": [
    "data_df['Level'].dtype"
   ]
  },
  {
   "cell_type": "markdown",
   "metadata": {},
   "source": [
    "**Kiểm tra xem có giá trị thiếu trong cột output hay không, nếu có thì loại bỏ các dòng có cột output là giá trị thiếu.**"
   ]
  },
  {
   "cell_type": "code",
   "execution_count": 8,
   "metadata": {},
   "outputs": [
    {
     "data": {
      "text/plain": [
       "3"
      ]
     },
     "execution_count": 8,
     "metadata": {},
     "output_type": "execute_result"
    }
   ],
   "source": [
    "data_df['Level'].isna().sum()"
   ]
  },
  {
   "cell_type": "code",
   "execution_count": 9,
   "metadata": {},
   "outputs": [
    {
     "data": {
      "text/plain": [
       "0"
      ]
     },
     "execution_count": 9,
     "metadata": {},
     "output_type": "execute_result"
    }
   ],
   "source": [
    "data_df = data_df[data_df['Level'].notna()]\n",
    "data_df['Level'].isna().sum()"
   ]
  },
  {
   "cell_type": "markdown",
   "metadata": {},
   "source": [
    "**Xem các giá trị xuất hiện trong cột output**\n"
   ]
  },
  {
   "cell_type": "markdown",
   "metadata": {},
   "source": [
    "Ta thấy có 6 cấp độ chất lượng không khí.\n",
    "\n",
    "| Cấp độ | Khoảng giá trị AQI | Mức độ cảnh báo y tế | Số hóa tương ứng |\n",
    "| :-: | :-: | :-: | :-: |\n",
    "| Good | 0 - 50 | Không ảnh hưởng đến sức khỏe | 0 |\n",
    "| Moderate | 51 - 100 | Ở mức chấp nhận được. Nhóm nhạy cảm nên hạn chế thời gian ra ngoài | 1 |\n",
    "| Unhealthy For Sensitive Groups | 101 - 150 | Nhóm người nhạy cảm có thể bị ảnh hưởng đến sức khỏe. Phần lớn người dân không có nguy cơ bị ảnh hưởng đến sức khỏe | 2 |\n",
    "| Unhealthy | 151 - 200 | Tất cả mọi người có thể bắt đầu bị ảnh hưởng sức khỏe. Những nhóm người bị nhạy cảm có thể bị ảnh hưởng đến sức khỏe nghiêm trọng hơn | 3 |\n",
    "| Very unhealthy | 201 - 300 | Cảnh báo nguy hại sức khỏe nghiêm trọng. Đa số mọi người đều bị ảnh hưởng | 4 |\n",
    "| Hazardous | 300+ | Cảnh báo sức khỏe: tất cả mọi người có thể bị ảnh hưởng đến sức khỏe một cách nghiêm trọng | 5 |\n",
    "\n",
    "Giải thích về chỉ số AQI: chỉ số AQI là chỉ số đo chất lượng không khí được tính từ mật độ PM2.5, PM10, O3, NO2, SO2, CO. Từ chỉ số này, người ta chia ra thành 6 thang đo như ở trên. \n",
    "\n",
    "Trong đề tài đồ án, vì nhận thấy rằng cách tính chỉ số AQI rất phức tạp và khác nhau ở nhiều quốc gia, bên cạnh đó, mục đích cuối cùng của việc tính chỉ số AQI cũng là để quy về mức độ của chất lượng không khí như thang đo ở trên. Do đó thay vì tính toán chỉ số AQI, ta trực tiếp suy ra mức độ chất lượng không khí từ mật độ các khí.\n"
   ]
  },
  {
   "cell_type": "code",
   "execution_count": 10,
   "metadata": {},
   "outputs": [
    {
     "data": {
      "text/plain": [
       "Moderate                          37.560038\n",
       "Good                              25.552354\n",
       "Unhealthy For Sensitive Groups    14.409222\n",
       "Unhealthy                         13.544669\n",
       "Very Unhealthy                     5.091258\n",
       "Hazardous                          3.842459\n",
       "Name: Level, dtype: float64"
      ]
     },
     "execution_count": 10,
     "metadata": {},
     "output_type": "execute_result"
    }
   ],
   "source": [
    "temp = data_df['Level'].value_counts(normalize=True) * 100\n",
    "temp"
   ]
  },
  {
   "cell_type": "markdown",
   "metadata": {},
   "source": [
    "**Số hóa output**\n",
    "\n",
    "Để dễ nhìn, nhóm tiến hành số hóa các cấp độ chất lượng không khí tương ứng từ 0 - 5 như ở bảng trên."
   ]
  },
  {
   "cell_type": "code",
   "execution_count": 11,
   "metadata": {},
   "outputs": [],
   "source": [
    "def transform_y(train_y_sr):\n",
    "    new_y = []\n",
    "    for index, value in train_y_sr.items():\n",
    "        if value == 'Good':\n",
    "            new_y.append(0)\n",
    "        elif value == 'Moderate':\n",
    "            new_y.append(1)\n",
    "        elif value =='Unhealthy For Sensitive Groups':\n",
    "            new_y.append(2)\n",
    "        elif value == 'Unhealthy':\n",
    "            new_y.append(3)\n",
    "        elif value == 'Very Unhealthy':\n",
    "            new_y.append(4)\n",
    "        else:\n",
    "            new_y.append(5)\n",
    "    new_y_sr = pd.Series(new_y)\n",
    "    return new_y_sr"
   ]
  },
  {
   "cell_type": "markdown",
   "metadata": {},
   "source": [
    "## Tiền xử lý (tách các tập)"
   ]
  },
  {
   "cell_type": "markdown",
   "metadata": {},
   "source": [
    "**Đầu tiên, tách output ra khỏi dataframe**"
   ]
  },
  {
   "cell_type": "code",
   "execution_count": 12,
   "metadata": {},
   "outputs": [],
   "source": [
    "# Tách X và y\n",
    "y_sr = data_df[\"Level\"]\n",
    "X_df = data_df.drop(\"Level\", axis=1)\n"
   ]
  },
  {
   "cell_type": "markdown",
   "metadata": {},
   "source": [
    "**Trực quan hóa cột output**"
   ]
  },
  {
   "cell_type": "code",
   "execution_count": 13,
   "metadata": {},
   "outputs": [
    {
     "data": {
      "text/plain": [
       "<matplotlib.axes._subplots.AxesSubplot at 0x24d23b09b50>"
      ]
     },
     "execution_count": 13,
     "metadata": {},
     "output_type": "execute_result"
    },
    {
     "data": {
      "image/png": "[encoded data removed]",
      "text/plain": [
       "<Figure size 432x288 with 1 Axes>"
      ]
     },
     "metadata": {
      "needs_background": "light"
     },
     "output_type": "display_data"
    }
   ],
   "source": [
    "y_sr = transform_y(data_df['Level'])\n",
    "data_plot = dict()\n",
    "indexes = []\n",
    "values = []\n",
    "for i, v in y_sr.value_counts().items():\n",
    "    indexes.append(i)\n",
    "    values.append(v)\n",
    "data_plot['Output number'] = indexes\n",
    "data_plot['Total count'] = values\n",
    "\n",
    "df_plot = pd.DataFrame(data = data_plot)\n",
    "df_plot.plot.bar(x='Output number', y='Total count', rot=50)"
   ]
  },
  {
   "cell_type": "code",
   "execution_count": 14,
   "metadata": {},
   "outputs": [
    {
     "data": {
      "text/html": [
       "<div>\n",
       "<style scoped>\n",
       "    .dataframe tbody tr th:only-of-type {\n",
       "        vertical-align: middle;\n",
       "    }\n",
       "\n",
       "    .dataframe tbody tr th {\n",
       "        vertical-align: top;\n",
       "    }\n",
       "\n",
       "    .dataframe thead th {\n",
       "        text-align: right;\n",
       "    }\n",
       "</style>\n",
       "<table border=\"1\" class=\"dataframe\">\n",
       "  <thead>\n",
       "    <tr style=\"text-align: right;\">\n",
       "      <th></th>\n",
       "      <th>PM2.5</th>\n",
       "      <th>PM10</th>\n",
       "      <th>O3</th>\n",
       "      <th>NO2</th>\n",
       "      <th>SO2</th>\n",
       "      <th>CO</th>\n",
       "    </tr>\n",
       "  </thead>\n",
       "  <tbody>\n",
       "    <tr>\n",
       "      <th>0</th>\n",
       "      <td>227.5</td>\n",
       "      <td>NaN</td>\n",
       "      <td>NaN</td>\n",
       "      <td>NaN</td>\n",
       "      <td>NaN</td>\n",
       "      <td>NaN</td>\n",
       "    </tr>\n",
       "    <tr>\n",
       "      <th>1</th>\n",
       "      <td>137.7</td>\n",
       "      <td>201.2</td>\n",
       "      <td>9.8</td>\n",
       "      <td>35.0</td>\n",
       "      <td>12.6</td>\n",
       "      <td>1181.7</td>\n",
       "    </tr>\n",
       "    <tr>\n",
       "      <th>2</th>\n",
       "      <td>157.4</td>\n",
       "      <td>2.2</td>\n",
       "      <td>NaN</td>\n",
       "      <td>NaN</td>\n",
       "      <td>NaN</td>\n",
       "      <td>NaN</td>\n",
       "    </tr>\n",
       "    <tr>\n",
       "      <th>3</th>\n",
       "      <td>112.2</td>\n",
       "      <td>198.5</td>\n",
       "      <td>14.8</td>\n",
       "      <td>NaN</td>\n",
       "      <td>NaN</td>\n",
       "      <td>NaN</td>\n",
       "    </tr>\n",
       "    <tr>\n",
       "      <th>4</th>\n",
       "      <td>104.5</td>\n",
       "      <td>NaN</td>\n",
       "      <td>NaN</td>\n",
       "      <td>NaN</td>\n",
       "      <td>NaN</td>\n",
       "      <td>NaN</td>\n",
       "    </tr>\n",
       "    <tr>\n",
       "      <th>...</th>\n",
       "      <td>...</td>\n",
       "      <td>...</td>\n",
       "      <td>...</td>\n",
       "      <td>...</td>\n",
       "      <td>...</td>\n",
       "      <td>...</td>\n",
       "    </tr>\n",
       "    <tr>\n",
       "      <th>1094</th>\n",
       "      <td>53.0</td>\n",
       "      <td>67.0</td>\n",
       "      <td>3.0</td>\n",
       "      <td>34.0</td>\n",
       "      <td>1.0</td>\n",
       "      <td>0.0</td>\n",
       "    </tr>\n",
       "    <tr>\n",
       "      <th>1095</th>\n",
       "      <td>47.0</td>\n",
       "      <td>70.0</td>\n",
       "      <td>2.0</td>\n",
       "      <td>60.0</td>\n",
       "      <td>2.0</td>\n",
       "      <td>NaN</td>\n",
       "    </tr>\n",
       "    <tr>\n",
       "      <th>1096</th>\n",
       "      <td>46.0</td>\n",
       "      <td>67.2</td>\n",
       "      <td>4.0</td>\n",
       "      <td>34.0</td>\n",
       "      <td>3.0</td>\n",
       "      <td>0.0</td>\n",
       "    </tr>\n",
       "    <tr>\n",
       "      <th>1097</th>\n",
       "      <td>16.0</td>\n",
       "      <td>NaN</td>\n",
       "      <td>NaN</td>\n",
       "      <td>NaN</td>\n",
       "      <td>NaN</td>\n",
       "      <td>NaN</td>\n",
       "    </tr>\n",
       "    <tr>\n",
       "      <th>1098</th>\n",
       "      <td>1.4</td>\n",
       "      <td>32.0</td>\n",
       "      <td>NaN</td>\n",
       "      <td>4.0</td>\n",
       "      <td>0.0</td>\n",
       "      <td>NaN</td>\n",
       "    </tr>\n",
       "  </tbody>\n",
       "</table>\n",
       "<p>1041 rows × 6 columns</p>\n",
       "</div>"
      ],
      "text/plain": [
       "      PM2.5   PM10    O3   NO2   SO2      CO\n",
       "0     227.5    NaN   NaN   NaN   NaN     NaN\n",
       "1     137.7  201.2   9.8  35.0  12.6  1181.7\n",
       "2     157.4    2.2   NaN   NaN   NaN     NaN\n",
       "3     112.2  198.5  14.8   NaN   NaN     NaN\n",
       "4     104.5    NaN   NaN   NaN   NaN     NaN\n",
       "...     ...    ...   ...   ...   ...     ...\n",
       "1094   53.0   67.0   3.0  34.0   1.0     0.0\n",
       "1095   47.0   70.0   2.0  60.0   2.0     NaN\n",
       "1096   46.0   67.2   4.0  34.0   3.0     0.0\n",
       "1097   16.0    NaN   NaN   NaN   NaN     NaN\n",
       "1098    1.4   32.0   NaN   4.0   0.0     NaN\n",
       "\n",
       "[1041 rows x 6 columns]"
      ]
     },
     "execution_count": 14,
     "metadata": {},
     "output_type": "execute_result"
    }
   ],
   "source": [
    "X_df"
   ]
  },
  {
   "cell_type": "markdown",
   "metadata": {},
   "source": [
    "**Tách tập X_df thành tập train, test và validation**\n",
    "\n",
    "Đầu tiên, tách X_df thành 2 tập trainval và test theo tỉ lệ 70%:30% \n",
    "Sau đó, tách trainval thành 2 tập train và validation theo tỉ lệ 70%:30%"
   ]
  },
  {
   "cell_type": "code",
   "execution_count": 15,
   "metadata": {},
   "outputs": [],
   "source": [
    "trainval_X_df, test_X_df, trainval_y_sr, test_y_sr = train_test_split(X_df, y_sr, test_size=0.3, random_state=None, stratify = y_sr)\n",
    "train_X_df, val_X_df, train_y_sr, val_y_sr = train_test_split(trainval_X_df, trainval_y_sr, test_size=0.3, random_state=None, stratify = trainval_y_sr)"
   ]
  },
  {
   "cell_type": "markdown",
   "metadata": {},
   "source": [
    "## Khám phá dữ liệu (tập huấn luyện)"
   ]
  },
  {
   "cell_type": "code",
   "execution_count": 16,
   "metadata": {},
   "outputs": [
    {
     "data": {
      "text/plain": [
       "(509, 6)"
      ]
     },
     "execution_count": 16,
     "metadata": {},
     "output_type": "execute_result"
    }
   ],
   "source": [
    "train_X_df.shape"
   ]
  },
  {
   "cell_type": "code",
   "execution_count": 17,
   "metadata": {},
   "outputs": [
    {
     "data": {
      "text/plain": [
       "(509,)"
      ]
     },
     "execution_count": 17,
     "metadata": {},
     "output_type": "execute_result"
    }
   ],
   "source": [
    "train_y_sr.shape"
   ]
  },
  {
   "cell_type": "code",
   "execution_count": 18,
   "metadata": {},
   "outputs": [
    {
     "data": {
      "text/plain": [
       "Int64Index([ 465,  767,  658,  942,  159, 1066,  441,  893,  520, 1006,\n",
       "            ...\n",
       "             552,  651,  972,  450,  890,  312,  311,  263,  532,    1],\n",
       "           dtype='int64', length=509)"
      ]
     },
     "execution_count": 18,
     "metadata": {},
     "output_type": "execute_result"
    }
   ],
   "source": [
    "train_X_df.index"
   ]
  },
  {
   "cell_type": "markdown",
   "metadata": {},
   "source": [
    "**Mỗi cột input trong hiện đang có dữ liệu gì? Kiểm tra xem có cột nào có kiểu dữ liệu chưa phù hợp hay không**\n",
    "\n",
    "Ta thấy tất cả các cột đều có dạng số phù hợp để huấn luyện."
   ]
  },
  {
   "cell_type": "code",
   "execution_count": 19,
   "metadata": {},
   "outputs": [
    {
     "data": {
      "text/plain": [
       "PM2.5    float64\n",
       "PM10     float64\n",
       "O3       float64\n",
       "NO2      float64\n",
       "SO2      float64\n",
       "CO       float64\n",
       "dtype: object"
      ]
     },
     "execution_count": 19,
     "metadata": {},
     "output_type": "execute_result"
    }
   ],
   "source": [
    "train_X_df.dtypes"
   ]
  },
  {
   "cell_type": "code",
   "execution_count": 20,
   "metadata": {},
   "outputs": [
    {
     "data": {
      "text/plain": [
       "1    191\n",
       "0    130\n",
       "2     73\n",
       "3     69\n",
       "4     26\n",
       "5     20\n",
       "dtype: int64"
      ]
     },
     "execution_count": 20,
     "metadata": {},
     "output_type": "execute_result"
    }
   ],
   "source": [
    "train_y_sr.value_counts()"
   ]
  },
  {
   "cell_type": "markdown",
   "metadata": {},
   "source": [
    "**Phân bố của các cột**"
   ]
  },
  {
   "cell_type": "code",
   "execution_count": 21,
   "metadata": {},
   "outputs": [
    {
     "data": {
      "text/html": [
       "<div>\n",
       "<style scoped>\n",
       "    .dataframe tbody tr th:only-of-type {\n",
       "        vertical-align: middle;\n",
       "    }\n",
       "\n",
       "    .dataframe tbody tr th {\n",
       "        vertical-align: top;\n",
       "    }\n",
       "\n",
       "    .dataframe thead th {\n",
       "        text-align: right;\n",
       "    }\n",
       "</style>\n",
       "<table border=\"1\" class=\"dataframe\">\n",
       "  <thead>\n",
       "    <tr style=\"text-align: right;\">\n",
       "      <th></th>\n",
       "      <th>PM2.5</th>\n",
       "      <th>PM10</th>\n",
       "      <th>O3</th>\n",
       "      <th>NO2</th>\n",
       "      <th>SO2</th>\n",
       "      <th>CO</th>\n",
       "    </tr>\n",
       "  </thead>\n",
       "  <tbody>\n",
       "    <tr>\n",
       "      <th>missing_ratio</th>\n",
       "      <td>1.4</td>\n",
       "      <td>39.7</td>\n",
       "      <td>66.6</td>\n",
       "      <td>51.7</td>\n",
       "      <td>65.8</td>\n",
       "      <td>80.9</td>\n",
       "    </tr>\n",
       "    <tr>\n",
       "      <th>min</th>\n",
       "      <td>0.0</td>\n",
       "      <td>0.0</td>\n",
       "      <td>0.0</td>\n",
       "      <td>0.0</td>\n",
       "      <td>0.0</td>\n",
       "      <td>0.0</td>\n",
       "    </tr>\n",
       "    <tr>\n",
       "      <th>lower_quartile</th>\n",
       "      <td>12.0</td>\n",
       "      <td>12.5</td>\n",
       "      <td>4.6</td>\n",
       "      <td>11.4</td>\n",
       "      <td>2.0</td>\n",
       "      <td>57.3</td>\n",
       "    </tr>\n",
       "    <tr>\n",
       "      <th>median</th>\n",
       "      <td>25.0</td>\n",
       "      <td>25.1</td>\n",
       "      <td>15.2</td>\n",
       "      <td>26.0</td>\n",
       "      <td>5.0</td>\n",
       "      <td>510.0</td>\n",
       "    </tr>\n",
       "    <tr>\n",
       "      <th>upper_quartile</th>\n",
       "      <td>53.3</td>\n",
       "      <td>66.5</td>\n",
       "      <td>38.0</td>\n",
       "      <td>44.2</td>\n",
       "      <td>12.9</td>\n",
       "      <td>1153.1</td>\n",
       "    </tr>\n",
       "    <tr>\n",
       "      <th>max</th>\n",
       "      <td>770.0</td>\n",
       "      <td>1159.0</td>\n",
       "      <td>116.0</td>\n",
       "      <td>470.0</td>\n",
       "      <td>134.0</td>\n",
       "      <td>4650.0</td>\n",
       "    </tr>\n",
       "  </tbody>\n",
       "</table>\n",
       "</div>"
      ],
      "text/plain": [
       "                PM2.5    PM10     O3    NO2    SO2      CO\n",
       "missing_ratio     1.4    39.7   66.6   51.7   65.8    80.9\n",
       "min               0.0     0.0    0.0    0.0    0.0     0.0\n",
       "lower_quartile   12.0    12.5    4.6   11.4    2.0    57.3\n",
       "median           25.0    25.1   15.2   26.0    5.0   510.0\n",
       "upper_quartile   53.3    66.5   38.0   44.2   12.9  1153.1\n",
       "max             770.0  1159.0  116.0  470.0  134.0  4650.0"
      ]
     },
     "execution_count": 21,
     "metadata": {},
     "output_type": "execute_result"
    }
   ],
   "source": [
    "num_cols = ['PM2.5', 'PM10', 'O3', 'NO2', 'SO2', 'CO']\n",
    "df = train_X_df[num_cols]\n",
    "def missing_ratio(df):\n",
    "    return (df.isna().mean() * 100).round(1)\n",
    "def lower_quartile(df):\n",
    "    return df.quantile(0.25).round(1)\n",
    "def median(df):\n",
    "    return df.quantile(0.5).round(1)\n",
    "def upper_quartile(df):\n",
    "    return df.quantile(0.75).round(1)\n",
    "df.agg([missing_ratio, 'min', lower_quartile, median, upper_quartile, 'max'])\n"
   ]
  },
  {
   "cell_type": "markdown",
   "metadata": {},
   "source": [
    "## Tiền xử lý (tập huấn luyện)"
   ]
  },
  {
   "cell_type": "markdown",
   "metadata": {},
   "source": [
    "Thay các giá trị NaN bằng 0.0. \n",
    "Ta không thay giá trị NaN bằng mean hay median như thông thường vì công thức tính chỉ số AQI không yêu cầu phải có đầy đủ tất cả các giá trị mật độ của các khí, nghĩa là giá trị mật độ của khí nào thiếu sẽ được xem như không có, do đó ta thay những giá trị NaN bằng 0.0\n",
    "\n",
    "(Mặc dù chủ đề đồ án không tính chỉ số AQI, nhưng chỉ số này tương ứng với mức độ chất lượng không khí - output mà ta cần suy ra)"
   ]
  },
  {
   "cell_type": "code",
   "execution_count": 22,
   "metadata": {},
   "outputs": [],
   "source": [
    "#hàm tiền xử lý\n",
    "def fill_missing(X_df):\n",
    "    num_cols = ['PM2.5', 'PM10', 'O3', 'NO2', 'SO2', 'CO']\n",
    "    df = X_df.copy()\n",
    "    #thay 'nan' bằng 0.0\n",
    "    df[num_cols] = X_df[num_cols].fillna(0)\n",
    "    return df"
   ]
  },
  {
   "cell_type": "code",
   "execution_count": 23,
   "metadata": {},
   "outputs": [],
   "source": [
    "#sử dụng FunctionTransformer để transform tập dữ liệu\n",
    "transform = FunctionTransformer(fill_missing)\n"
   ]
  },
  {
   "cell_type": "markdown",
   "metadata": {},
   "source": [
    "**Tạo pipeline tiền xử lý**\n",
    "\n",
    "Trong pipeline có thêm bước tiền xử lý là StandardScaler() để chuẩn hóa dữ liệu của các cột input.\n",
    "Sau đó, gọi fit_transform."
   ]
  },
  {
   "cell_type": "code",
   "execution_count": 24,
   "metadata": {},
   "outputs": [],
   "source": [
    "preprocess_pipeline = make_pipeline(FunctionTransformer(fill_missing), StandardScaler())"
   ]
  },
  {
   "cell_type": "code",
   "execution_count": 25,
   "metadata": {},
   "outputs": [
    {
     "data": {
      "text/html": [
       "<style>div.sk-top-container {color: black;background-color: white;}div.sk-toggleable {background-color: white;}label.sk-toggleable__label {cursor: pointer;display: block;width: 100%;margin-bottom: 0;padding: 0.2em 0.3em;box-sizing: border-box;text-align: center;}div.sk-toggleable__content {max-height: 0;max-width: 0;overflow: hidden;text-align: left;background-color: #f0f8ff;}div.sk-toggleable__content pre {margin: 0.2em;color: black;border-radius: 0.25em;background-color: #f0f8ff;}input.sk-toggleable__control:checked~div.sk-toggleable__content {max-height: 200px;max-width: 100%;overflow: auto;}div.sk-estimator input.sk-toggleable__control:checked~label.sk-toggleable__label {background-color: #d4ebff;}div.sk-label input.sk-toggleable__control:checked~label.sk-toggleable__label {background-color: #d4ebff;}input.sk-hidden--visually {border: 0;clip: rect(1px 1px 1px 1px);clip: rect(1px, 1px, 1px, 1px);height: 1px;margin: -1px;overflow: hidden;padding: 0;position: absolute;width: 1px;}div.sk-estimator {font-family: monospace;background-color: #f0f8ff;margin: 0.25em 0.25em;border: 1px dotted black;border-radius: 0.25em;box-sizing: border-box;}div.sk-estimator:hover {background-color: #d4ebff;}div.sk-parallel-item::after {content: \"\";width: 100%;border-bottom: 1px solid gray;flex-grow: 1;}div.sk-label:hover label.sk-toggleable__label {background-color: #d4ebff;}div.sk-serial::before {content: \"\";position: absolute;border-left: 1px solid gray;box-sizing: border-box;top: 2em;bottom: 0;left: 50%;}div.sk-serial {display: flex;flex-direction: column;align-items: center;background-color: white;}div.sk-item {z-index: 1;}div.sk-parallel {display: flex;align-items: stretch;justify-content: center;background-color: white;}div.sk-parallel-item {display: flex;flex-direction: column;position: relative;background-color: white;}div.sk-parallel-item:first-child::after {align-self: flex-end;width: 50%;}div.sk-parallel-item:last-child::after {align-self: flex-start;width: 50%;}div.sk-parallel-item:only-child::after {width: 0;}div.sk-dashed-wrapped {border: 1px dashed gray;margin: 0.2em;box-sizing: border-box;padding-bottom: 0.1em;background-color: white;position: relative;}div.sk-label label {font-family: monospace;font-weight: bold;background-color: white;display: inline-block;line-height: 1.2em;}div.sk-label-container {position: relative;z-index: 2;text-align: center;}div.sk-container {display: inline-block;position: relative;}</style><div class=\"sk-top-container\"><div class=\"sk-container\"><div class=\"sk-item sk-dashed-wrapped\"><div class=\"sk-label-container\"><div class=\"sk-label sk-toggleable\"><input class=\"sk-toggleable__control sk-hidden--visually\" id=\"9b0655db-b8fd-4546-a357-6ea24927fe24\" type=\"checkbox\" ><label class=\"sk-toggleable__label\" for=\"9b0655db-b8fd-4546-a357-6ea24927fe24\">Pipeline</label><div class=\"sk-toggleable__content\"><pre>Pipeline(steps=[('functiontransformer',\n",
       "                 FunctionTransformer(func=<function fill_missing at 0x0000024D242D3280>)),\n",
       "                ('standardscaler', StandardScaler())])</pre></div></div></div><div class=\"sk-serial\"><div class=\"sk-item\"><div class=\"sk-estimator sk-toggleable\"><input class=\"sk-toggleable__control sk-hidden--visually\" id=\"843e131c-d6ed-4911-852f-47c6429e168e\" type=\"checkbox\" ><label class=\"sk-toggleable__label\" for=\"843e131c-d6ed-4911-852f-47c6429e168e\">FunctionTransformer</label><div class=\"sk-toggleable__content\"><pre>FunctionTransformer(func=<function fill_missing at 0x0000024D242D3280>)</pre></div></div></div><div class=\"sk-item\"><div class=\"sk-estimator sk-toggleable\"><input class=\"sk-toggleable__control sk-hidden--visually\" id=\"abf3aef8-af82-404a-b8d1-82480fd0e739\" type=\"checkbox\" ><label class=\"sk-toggleable__label\" for=\"abf3aef8-af82-404a-b8d1-82480fd0e739\">StandardScaler</label><div class=\"sk-toggleable__content\"><pre>StandardScaler()</pre></div></div></div></div></div></div></div>"
      ],
      "text/plain": [
       "Pipeline(steps=[('functiontransformer',\n",
       "                 FunctionTransformer(func=<function fill_missing at 0x0000024D242D3280>)),\n",
       "                ('standardscaler', StandardScaler())])"
      ]
     },
     "execution_count": 25,
     "metadata": {},
     "output_type": "execute_result"
    }
   ],
   "source": [
    "preprocess_pipeline"
   ]
  },
  {
   "cell_type": "code",
   "execution_count": 26,
   "metadata": {},
   "outputs": [
    {
     "data": {
      "text/plain": [
       "array([[ 0.74706675, -0.41296175, -0.47939611, -0.47732642, -0.34399242,\n",
       "        -0.29563553],\n",
       "       [-0.00862317, -0.41296175, -0.47939611, -0.47732642, -0.34399242,\n",
       "        -0.29563553],\n",
       "       [-0.59544384, -0.41296175,  1.738382  , -0.19949053, -0.34399242,\n",
       "        -0.29563553],\n",
       "       ...,\n",
       "       [-0.13105338, -0.41296175, -0.47939611, -0.47732642, -0.34399242,\n",
       "        -0.29563553],\n",
       "       [-0.04661875, -0.13942831, -0.47939611, -0.47732642, -0.34399242,\n",
       "        -0.29563553],\n",
       "       [ 1.24382382,  1.37970694,  0.14158176,  0.49509918,  0.78714017,\n",
       "         1.85667725]])"
      ]
     },
     "execution_count": 26,
     "metadata": {},
     "output_type": "execute_result"
    }
   ],
   "source": [
    "#preprocess tập train\n",
    "preprocess_train_X = preprocess_pipeline.fit_transform(train_X_df)\n",
    "preprocess_train_X"
   ]
  },
  {
   "cell_type": "markdown",
   "metadata": {},
   "source": [
    "## Tiền xử lý (tập validation)\n",
    "\n",
    "Dùng phương thức transform để tiền xử lý cho các vector input mới trong tập validation."
   ]
  },
  {
   "cell_type": "code",
   "execution_count": 27,
   "metadata": {},
   "outputs": [
    {
     "data": {
      "text/plain": [
       "(219, 6)"
      ]
     },
     "execution_count": 27,
     "metadata": {},
     "output_type": "execute_result"
    }
   ],
   "source": [
    "val_X_df.shape"
   ]
  },
  {
   "cell_type": "code",
   "execution_count": 28,
   "metadata": {},
   "outputs": [
    {
     "data": {
      "text/plain": [
       "902    1\n",
       "909    3\n",
       "779    0\n",
       "257    2\n",
       "569    1\n",
       "      ..\n",
       "624    0\n",
       "450    3\n",
       "419    3\n",
       "209    1\n",
       "688    2\n",
       "Length: 219, dtype: int64"
      ]
     },
     "execution_count": 28,
     "metadata": {},
     "output_type": "execute_result"
    }
   ],
   "source": [
    "val_y_sr"
   ]
  },
  {
   "cell_type": "code",
   "execution_count": 29,
   "metadata": {},
   "outputs": [
    {
     "data": {
      "text/plain": [
       "(219, 6)"
      ]
     },
     "execution_count": 29,
     "metadata": {},
     "output_type": "execute_result"
    }
   ],
   "source": [
    "preprocessed_val_X = preprocess_pipeline.transform(val_X_df)\n",
    "preprocessed_val_X.shape"
   ]
  },
  {
   "cell_type": "markdown",
   "metadata": {},
   "source": [
    "## Tiền xử lý + Mô hình hóa"
   ]
  },
  {
   "cell_type": "code",
   "execution_count": 30,
   "metadata": {},
   "outputs": [],
   "source": [
    "#neural_net = MLPClassifier(hidden_layer_sizes=(20,), activation='tanh', solver='lbfgs', max_iter=2500, random_state = 0)\n",
    "neural_net = MLPClassifier(activation='tanh', solver='lbfgs', max_iter=2500, random_state = 0)\n",
    "full_pipeline = make_pipeline(preprocess_pipeline, neural_net)"
   ]
  },
  {
   "cell_type": "code",
   "execution_count": 31,
   "metadata": {},
   "outputs": [
    {
     "data": {
      "text/html": [
       "<style>div.sk-top-container {color: black;background-color: white;}div.sk-toggleable {background-color: white;}label.sk-toggleable__label {cursor: pointer;display: block;width: 100%;margin-bottom: 0;padding: 0.2em 0.3em;box-sizing: border-box;text-align: center;}div.sk-toggleable__content {max-height: 0;max-width: 0;overflow: hidden;text-align: left;background-color: #f0f8ff;}div.sk-toggleable__content pre {margin: 0.2em;color: black;border-radius: 0.25em;background-color: #f0f8ff;}input.sk-toggleable__control:checked~div.sk-toggleable__content {max-height: 200px;max-width: 100%;overflow: auto;}div.sk-estimator input.sk-toggleable__control:checked~label.sk-toggleable__label {background-color: #d4ebff;}div.sk-label input.sk-toggleable__control:checked~label.sk-toggleable__label {background-color: #d4ebff;}input.sk-hidden--visually {border: 0;clip: rect(1px 1px 1px 1px);clip: rect(1px, 1px, 1px, 1px);height: 1px;margin: -1px;overflow: hidden;padding: 0;position: absolute;width: 1px;}div.sk-estimator {font-family: monospace;background-color: #f0f8ff;margin: 0.25em 0.25em;border: 1px dotted black;border-radius: 0.25em;box-sizing: border-box;}div.sk-estimator:hover {background-color: #d4ebff;}div.sk-parallel-item::after {content: \"\";width: 100%;border-bottom: 1px solid gray;flex-grow: 1;}div.sk-label:hover label.sk-toggleable__label {background-color: #d4ebff;}div.sk-serial::before {content: \"\";position: absolute;border-left: 1px solid gray;box-sizing: border-box;top: 2em;bottom: 0;left: 50%;}div.sk-serial {display: flex;flex-direction: column;align-items: center;background-color: white;}div.sk-item {z-index: 1;}div.sk-parallel {display: flex;align-items: stretch;justify-content: center;background-color: white;}div.sk-parallel-item {display: flex;flex-direction: column;position: relative;background-color: white;}div.sk-parallel-item:first-child::after {align-self: flex-end;width: 50%;}div.sk-parallel-item:last-child::after {align-self: flex-start;width: 50%;}div.sk-parallel-item:only-child::after {width: 0;}div.sk-dashed-wrapped {border: 1px dashed gray;margin: 0.2em;box-sizing: border-box;padding-bottom: 0.1em;background-color: white;position: relative;}div.sk-label label {font-family: monospace;font-weight: bold;background-color: white;display: inline-block;line-height: 1.2em;}div.sk-label-container {position: relative;z-index: 2;text-align: center;}div.sk-container {display: inline-block;position: relative;}</style><div class=\"sk-top-container\"><div class=\"sk-container\"><div class=\"sk-item sk-dashed-wrapped\"><div class=\"sk-label-container\"><div class=\"sk-label sk-toggleable\"><input class=\"sk-toggleable__control sk-hidden--visually\" id=\"7e9fedaf-6806-46b4-87e5-f43d60d43b47\" type=\"checkbox\" ><label class=\"sk-toggleable__label\" for=\"7e9fedaf-6806-46b4-87e5-f43d60d43b47\">Pipeline</label><div class=\"sk-toggleable__content\"><pre>Pipeline(steps=[('pipeline',\n",
       "                 Pipeline(steps=[('functiontransformer',\n",
       "                                  FunctionTransformer(func=<function fill_missing at 0x0000024D242D3280>)),\n",
       "                                 ('standardscaler', StandardScaler())])),\n",
       "                ('mlpclassifier',\n",
       "                 MLPClassifier(activation='tanh', max_iter=2500, random_state=0,\n",
       "                               solver='lbfgs'))])</pre></div></div></div><div class=\"sk-serial\"><div class=\"sk-item\"><div class=\"sk-label-container\"><div class=\"sk-label sk-toggleable\"><input class=\"sk-toggleable__control sk-hidden--visually\" id=\"acfaf815-db6a-419b-b53a-8f6e8a64a1e5\" type=\"checkbox\" ><label class=\"sk-toggleable__label\" for=\"acfaf815-db6a-419b-b53a-8f6e8a64a1e5\">pipeline: Pipeline</label><div class=\"sk-toggleable__content\"><pre>Pipeline(steps=[('functiontransformer',\n",
       "                 FunctionTransformer(func=<function fill_missing at 0x0000024D242D3280>)),\n",
       "                ('standardscaler', StandardScaler())])</pre></div></div></div><div class=\"sk-serial\"><div class=\"sk-item\"><div class=\"sk-estimator sk-toggleable\"><input class=\"sk-toggleable__control sk-hidden--visually\" id=\"57aea9b0-abe9-4c85-9684-0d89eb947f8c\" type=\"checkbox\" ><label class=\"sk-toggleable__label\" for=\"57aea9b0-abe9-4c85-9684-0d89eb947f8c\">FunctionTransformer</label><div class=\"sk-toggleable__content\"><pre>FunctionTransformer(func=<function fill_missing at 0x0000024D242D3280>)</pre></div></div></div><div class=\"sk-item\"><div class=\"sk-estimator sk-toggleable\"><input class=\"sk-toggleable__control sk-hidden--visually\" id=\"4a8cf455-525f-49b1-9d85-589003f3a74a\" type=\"checkbox\" ><label class=\"sk-toggleable__label\" for=\"4a8cf455-525f-49b1-9d85-589003f3a74a\">StandardScaler</label><div class=\"sk-toggleable__content\"><pre>StandardScaler()</pre></div></div></div></div></div><div class=\"sk-item\"><div class=\"sk-estimator sk-toggleable\"><input class=\"sk-toggleable__control sk-hidden--visually\" id=\"353940a5-8091-4066-a9c7-1474b8b84fb3\" type=\"checkbox\" ><label class=\"sk-toggleable__label\" for=\"353940a5-8091-4066-a9c7-1474b8b84fb3\">MLPClassifier</label><div class=\"sk-toggleable__content\"><pre>MLPClassifier(activation='tanh', max_iter=2500, random_state=0, solver='lbfgs')</pre></div></div></div></div></div></div></div>"
      ],
      "text/plain": [
       "Pipeline(steps=[('pipeline',\n",
       "                 Pipeline(steps=[('functiontransformer',\n",
       "                                  FunctionTransformer(func=<function fill_missing at 0x0000024D242D3280>)),\n",
       "                                 ('standardscaler', StandardScaler())])),\n",
       "                ('mlpclassifier',\n",
       "                 MLPClassifier(activation='tanh', max_iter=2500, random_state=0,\n",
       "                               solver='lbfgs'))])"
      ]
     },
     "execution_count": 31,
     "metadata": {},
     "output_type": "execute_result"
    }
   ],
   "source": [
    "full_pipeline"
   ]
  },
  {
   "cell_type": "markdown",
   "metadata": {},
   "source": [
    "**Tìm mô hình tốt nhất**\n",
    "\n",
    "Thay đổi giá trị alpha và giá trị hidden_layer_size.Lưu các độ lỗi của tập train và validation vào mảng train_errs và val_errs. Tìm giá trị best_val_err là giá trị nhỏ nhất trong tập val_errs và lưu giá trị alpha, hidden_layer_size tương ứng vào 2 biến best_alpha và best_hidden_layer_size.\n",
    "\n",
    "Có 8 giá trị alpha và 6 giá trị hidden_layer_sizes, như vậy ta sẽ tiến hành thử nghiệm trên 8 x 6 = 48 mô hình."
   ]
  },
  {
   "cell_type": "code",
   "execution_count": 32,
   "metadata": {},
   "outputs": [
    {
     "name": "stderr",
     "output_type": "stream",
     "text": [
      "C:\\Users\\HP\\anaconda3\\lib\\site-packages\\sklearn\\neural_network\\_multilayer_perceptron.py:471: ConvergenceWarning: lbfgs failed to converge (status=1):\n",
      "STOP: TOTAL NO. of ITERATIONS REACHED LIMIT.\n",
      "\n",
      "Increase the number of iterations (max_iter) or scale the data as shown in:\n",
      "    https://scikit-learn.org/stable/modules/preprocessing.html\n",
      "  self.n_iter_ = _check_optimize_result(\"lbfgs\", opt_res, self.max_iter)\n",
      "C:\\Users\\HP\\anaconda3\\lib\\site-packages\\sklearn\\neural_network\\_multilayer_perceptron.py:471: ConvergenceWarning: lbfgs failed to converge (status=1):\n",
      "STOP: TOTAL NO. of ITERATIONS REACHED LIMIT.\n",
      "\n",
      "Increase the number of iterations (max_iter) or scale the data as shown in:\n",
      "    https://scikit-learn.org/stable/modules/preprocessing.html\n",
      "  self.n_iter_ = _check_optimize_result(\"lbfgs\", opt_res, self.max_iter)\n"
     ]
    },
    {
     "data": {
      "text/plain": [
       "'Finish!'"
      ]
     },
     "execution_count": 32,
     "metadata": {},
     "output_type": "execute_result"
    }
   ],
   "source": [
    "train_errs = []\n",
    "val_errs = []\n",
    "alphas = [0.00001, 0.001, 0.01, 0.1, 1, 10, 100, 1000]\n",
    "best_val_err = float('inf'); \n",
    "best_alpha = None;\n",
    "li_hidden_layer_sizes = [5, 10, 15, 20, 25, 30]\n",
    "best_hidden_layer_size = None\n",
    "li = []\n",
    "\n",
    "for alpha in alphas:\n",
    "    for x in li_hidden_layer_sizes:\n",
    "        full_pipeline.set_params(mlpclassifier__alpha=alpha, mlpclassifier__hidden_layer_sizes=x)\n",
    "        full_pipeline.fit(train_X_df, train_y_sr)\n",
    "        train_err = (1-full_pipeline.score(train_X_df, train_y_sr))*100\n",
    "        train_errs.append(train_err)\n",
    "        val_err = (1-full_pipeline.score(val_X_df, val_y_sr))*100\n",
    "        val_errs.append(val_err)\n",
    "        li.append([alpha, x])\n",
    "    \n",
    "best_val_err = min(val_errs)\n",
    "best_alpha = li[val_errs.index(best_val_err)][0]\n",
    "best_hidden_layer_size = li[val_errs.index(best_val_err)][1]\n",
    "'Finish!'"
   ]
  },
  {
   "cell_type": "code",
   "execution_count": 33,
   "metadata": {},
   "outputs": [
    {
     "data": {
      "text/plain": [
       "0.1"
      ]
     },
     "execution_count": 33,
     "metadata": {},
     "output_type": "execute_result"
    }
   ],
   "source": [
    "best_alpha"
   ]
  },
  {
   "cell_type": "code",
   "execution_count": 34,
   "metadata": {},
   "outputs": [
    {
     "data": {
      "text/plain": [
       "30"
      ]
     },
     "execution_count": 34,
     "metadata": {},
     "output_type": "execute_result"
    }
   ],
   "source": [
    "best_hidden_layer_size"
   ]
  },
  {
   "cell_type": "markdown",
   "metadata": {},
   "source": [
    "**Trực quan hóa kết quả**"
   ]
  },
  {
   "cell_type": "code",
   "execution_count": 35,
   "metadata": {},
   "outputs": [
    {
     "data": {
      "image/png": "[encoded data removed]",
      "text/plain": [
       "<Figure size 720x360 with 2 Axes>"
      ]
     },
     "metadata": {
      "needs_background": "light"
     },
     "output_type": "display_data"
    }
   ],
   "source": [
    "# Trực quan hóa kết quả\n",
    "train_errs_df = pd.DataFrame(data=np.array(train_errs).reshape(len(alphas), -1),\n",
    "                             index=alphas, columns=li_hidden_layer_sizes)\n",
    "val_errs_df = pd.DataFrame(data=np.array(val_errs).reshape(len(alphas), -1), \n",
    "                           index=alphas, columns=li_hidden_layer_sizes)\n",
    "min_err = min(min(train_errs), min(val_errs))\n",
    "max_err = max(max(train_errs), max(val_errs))\n",
    "plt.figure(figsize=(10, 5))\n",
    "plt.subplot(1, 2, 1)\n",
    "sns.heatmap(train_errs_df, vmin=min_err, vmax=max_err, square=True, annot=True, \n",
    "            cbar=False, fmt='.1f', cmap='Reds')\n",
    "plt.title('train errors'); plt.xlabel('hidden_layer_size'); plt.ylabel('alpha')\n",
    "plt.subplot(1, 2, 2)\n",
    "sns.heatmap(val_errs_df, vmin=min_err, vmax=max_err, square=True, annot=True, \n",
    "            cbar=False, fmt='.1f', cmap='Reds')\n",
    "plt.title('validation errors'); plt.xlabel('hidden_layer_size'); plt.ylabel('alpha');"
   ]
  },
  {
   "cell_type": "markdown",
   "metadata": {},
   "source": [
    "**Huấn luyện bằng mô hình tốt nhất tìm được**"
   ]
  },
  {
   "cell_type": "code",
   "execution_count": 36,
   "metadata": {},
   "outputs": [
    {
     "data": {
      "text/html": [
       "<style>div.sk-top-container {color: black;background-color: white;}div.sk-toggleable {background-color: white;}label.sk-toggleable__label {cursor: pointer;display: block;width: 100%;margin-bottom: 0;padding: 0.2em 0.3em;box-sizing: border-box;text-align: center;}div.sk-toggleable__content {max-height: 0;max-width: 0;overflow: hidden;text-align: left;background-color: #f0f8ff;}div.sk-toggleable__content pre {margin: 0.2em;color: black;border-radius: 0.25em;background-color: #f0f8ff;}input.sk-toggleable__control:checked~div.sk-toggleable__content {max-height: 200px;max-width: 100%;overflow: auto;}div.sk-estimator input.sk-toggleable__control:checked~label.sk-toggleable__label {background-color: #d4ebff;}div.sk-label input.sk-toggleable__control:checked~label.sk-toggleable__label {background-color: #d4ebff;}input.sk-hidden--visually {border: 0;clip: rect(1px 1px 1px 1px);clip: rect(1px, 1px, 1px, 1px);height: 1px;margin: -1px;overflow: hidden;padding: 0;position: absolute;width: 1px;}div.sk-estimator {font-family: monospace;background-color: #f0f8ff;margin: 0.25em 0.25em;border: 1px dotted black;border-radius: 0.25em;box-sizing: border-box;}div.sk-estimator:hover {background-color: #d4ebff;}div.sk-parallel-item::after {content: \"\";width: 100%;border-bottom: 1px solid gray;flex-grow: 1;}div.sk-label:hover label.sk-toggleable__label {background-color: #d4ebff;}div.sk-serial::before {content: \"\";position: absolute;border-left: 1px solid gray;box-sizing: border-box;top: 2em;bottom: 0;left: 50%;}div.sk-serial {display: flex;flex-direction: column;align-items: center;background-color: white;}div.sk-item {z-index: 1;}div.sk-parallel {display: flex;align-items: stretch;justify-content: center;background-color: white;}div.sk-parallel-item {display: flex;flex-direction: column;position: relative;background-color: white;}div.sk-parallel-item:first-child::after {align-self: flex-end;width: 50%;}div.sk-parallel-item:last-child::after {align-self: flex-start;width: 50%;}div.sk-parallel-item:only-child::after {width: 0;}div.sk-dashed-wrapped {border: 1px dashed gray;margin: 0.2em;box-sizing: border-box;padding-bottom: 0.1em;background-color: white;position: relative;}div.sk-label label {font-family: monospace;font-weight: bold;background-color: white;display: inline-block;line-height: 1.2em;}div.sk-label-container {position: relative;z-index: 2;text-align: center;}div.sk-container {display: inline-block;position: relative;}</style><div class=\"sk-top-container\"><div class=\"sk-container\"><div class=\"sk-item sk-dashed-wrapped\"><div class=\"sk-label-container\"><div class=\"sk-label sk-toggleable\"><input class=\"sk-toggleable__control sk-hidden--visually\" id=\"9dd4aa91-1eb0-40b3-81c7-b0b0d724baff\" type=\"checkbox\" ><label class=\"sk-toggleable__label\" for=\"9dd4aa91-1eb0-40b3-81c7-b0b0d724baff\">Pipeline</label><div class=\"sk-toggleable__content\"><pre>Pipeline(steps=[('pipeline',\n",
       "                 Pipeline(steps=[('functiontransformer',\n",
       "                                  FunctionTransformer(func=<function fill_missing at 0x0000024D242D3280>)),\n",
       "                                 ('standardscaler', StandardScaler())])),\n",
       "                ('mlpclassifier',\n",
       "                 MLPClassifier(activation='tanh', alpha=0.1,\n",
       "                               hidden_layer_sizes=30, max_iter=2500,\n",
       "                               random_state=0, solver='lbfgs'))])</pre></div></div></div><div class=\"sk-serial\"><div class=\"sk-item\"><div class=\"sk-label-container\"><div class=\"sk-label sk-toggleable\"><input class=\"sk-toggleable__control sk-hidden--visually\" id=\"fb45e042-5785-4b01-9670-06d32f0aed7e\" type=\"checkbox\" ><label class=\"sk-toggleable__label\" for=\"fb45e042-5785-4b01-9670-06d32f0aed7e\">pipeline: Pipeline</label><div class=\"sk-toggleable__content\"><pre>Pipeline(steps=[('functiontransformer',\n",
       "                 FunctionTransformer(func=<function fill_missing at 0x0000024D242D3280>)),\n",
       "                ('standardscaler', StandardScaler())])</pre></div></div></div><div class=\"sk-serial\"><div class=\"sk-item\"><div class=\"sk-estimator sk-toggleable\"><input class=\"sk-toggleable__control sk-hidden--visually\" id=\"360ec6b0-ac81-4822-9d17-9e34b671e2c0\" type=\"checkbox\" ><label class=\"sk-toggleable__label\" for=\"360ec6b0-ac81-4822-9d17-9e34b671e2c0\">FunctionTransformer</label><div class=\"sk-toggleable__content\"><pre>FunctionTransformer(func=<function fill_missing at 0x0000024D242D3280>)</pre></div></div></div><div class=\"sk-item\"><div class=\"sk-estimator sk-toggleable\"><input class=\"sk-toggleable__control sk-hidden--visually\" id=\"d88305a1-cdff-4da8-aaff-df7987940f09\" type=\"checkbox\" ><label class=\"sk-toggleable__label\" for=\"d88305a1-cdff-4da8-aaff-df7987940f09\">StandardScaler</label><div class=\"sk-toggleable__content\"><pre>StandardScaler()</pre></div></div></div></div></div><div class=\"sk-item\"><div class=\"sk-estimator sk-toggleable\"><input class=\"sk-toggleable__control sk-hidden--visually\" id=\"6d8a9a50-6a85-4473-8845-518ad99b7b92\" type=\"checkbox\" ><label class=\"sk-toggleable__label\" for=\"6d8a9a50-6a85-4473-8845-518ad99b7b92\">MLPClassifier</label><div class=\"sk-toggleable__content\"><pre>MLPClassifier(activation='tanh', alpha=0.1, hidden_layer_sizes=30,\n",
       "              max_iter=2500, random_state=0, solver='lbfgs')</pre></div></div></div></div></div></div></div>"
      ],
      "text/plain": [
       "Pipeline(steps=[('pipeline',\n",
       "                 Pipeline(steps=[('functiontransformer',\n",
       "                                  FunctionTransformer(func=<function fill_missing at 0x0000024D242D3280>)),\n",
       "                                 ('standardscaler', StandardScaler())])),\n",
       "                ('mlpclassifier',\n",
       "                 MLPClassifier(activation='tanh', alpha=0.1,\n",
       "                               hidden_layer_sizes=30, max_iter=2500,\n",
       "                               random_state=0, solver='lbfgs'))])"
      ]
     },
     "execution_count": 36,
     "metadata": {},
     "output_type": "execute_result"
    }
   ],
   "source": [
    "full_pipeline.set_params(mlpclassifier__alpha=best_alpha, mlpclassifier__hidden_layer_sizes=best_hidden_layer_size)"
   ]
  },
  {
   "cell_type": "code",
   "execution_count": 37,
   "metadata": {},
   "outputs": [
    {
     "data": {
      "text/html": [
       "<style>div.sk-top-container {color: black;background-color: white;}div.sk-toggleable {background-color: white;}label.sk-toggleable__label {cursor: pointer;display: block;width: 100%;margin-bottom: 0;padding: 0.2em 0.3em;box-sizing: border-box;text-align: center;}div.sk-toggleable__content {max-height: 0;max-width: 0;overflow: hidden;text-align: left;background-color: #f0f8ff;}div.sk-toggleable__content pre {margin: 0.2em;color: black;border-radius: 0.25em;background-color: #f0f8ff;}input.sk-toggleable__control:checked~div.sk-toggleable__content {max-height: 200px;max-width: 100%;overflow: auto;}div.sk-estimator input.sk-toggleable__control:checked~label.sk-toggleable__label {background-color: #d4ebff;}div.sk-label input.sk-toggleable__control:checked~label.sk-toggleable__label {background-color: #d4ebff;}input.sk-hidden--visually {border: 0;clip: rect(1px 1px 1px 1px);clip: rect(1px, 1px, 1px, 1px);height: 1px;margin: -1px;overflow: hidden;padding: 0;position: absolute;width: 1px;}div.sk-estimator {font-family: monospace;background-color: #f0f8ff;margin: 0.25em 0.25em;border: 1px dotted black;border-radius: 0.25em;box-sizing: border-box;}div.sk-estimator:hover {background-color: #d4ebff;}div.sk-parallel-item::after {content: \"\";width: 100%;border-bottom: 1px solid gray;flex-grow: 1;}div.sk-label:hover label.sk-toggleable__label {background-color: #d4ebff;}div.sk-serial::before {content: \"\";position: absolute;border-left: 1px solid gray;box-sizing: border-box;top: 2em;bottom: 0;left: 50%;}div.sk-serial {display: flex;flex-direction: column;align-items: center;background-color: white;}div.sk-item {z-index: 1;}div.sk-parallel {display: flex;align-items: stretch;justify-content: center;background-color: white;}div.sk-parallel-item {display: flex;flex-direction: column;position: relative;background-color: white;}div.sk-parallel-item:first-child::after {align-self: flex-end;width: 50%;}div.sk-parallel-item:last-child::after {align-self: flex-start;width: 50%;}div.sk-parallel-item:only-child::after {width: 0;}div.sk-dashed-wrapped {border: 1px dashed gray;margin: 0.2em;box-sizing: border-box;padding-bottom: 0.1em;background-color: white;position: relative;}div.sk-label label {font-family: monospace;font-weight: bold;background-color: white;display: inline-block;line-height: 1.2em;}div.sk-label-container {position: relative;z-index: 2;text-align: center;}div.sk-container {display: inline-block;position: relative;}</style><div class=\"sk-top-container\"><div class=\"sk-container\"><div class=\"sk-item sk-dashed-wrapped\"><div class=\"sk-label-container\"><div class=\"sk-label sk-toggleable\"><input class=\"sk-toggleable__control sk-hidden--visually\" id=\"5a91b9e4-a91a-45e8-b266-77cdeeea61ca\" type=\"checkbox\" ><label class=\"sk-toggleable__label\" for=\"5a91b9e4-a91a-45e8-b266-77cdeeea61ca\">Pipeline</label><div class=\"sk-toggleable__content\"><pre>Pipeline(steps=[('pipeline',\n",
       "                 Pipeline(steps=[('functiontransformer',\n",
       "                                  FunctionTransformer(func=<function fill_missing at 0x0000024D242D3280>)),\n",
       "                                 ('standardscaler', StandardScaler())])),\n",
       "                ('mlpclassifier',\n",
       "                 MLPClassifier(activation='tanh', alpha=0.1,\n",
       "                               hidden_layer_sizes=30, max_iter=2500,\n",
       "                               random_state=0, solver='lbfgs'))])</pre></div></div></div><div class=\"sk-serial\"><div class=\"sk-item\"><div class=\"sk-label-container\"><div class=\"sk-label sk-toggleable\"><input class=\"sk-toggleable__control sk-hidden--visually\" id=\"849e8a63-ae62-42f6-8082-a32527885ab8\" type=\"checkbox\" ><label class=\"sk-toggleable__label\" for=\"849e8a63-ae62-42f6-8082-a32527885ab8\">pipeline: Pipeline</label><div class=\"sk-toggleable__content\"><pre>Pipeline(steps=[('functiontransformer',\n",
       "                 FunctionTransformer(func=<function fill_missing at 0x0000024D242D3280>)),\n",
       "                ('standardscaler', StandardScaler())])</pre></div></div></div><div class=\"sk-serial\"><div class=\"sk-item\"><div class=\"sk-estimator sk-toggleable\"><input class=\"sk-toggleable__control sk-hidden--visually\" id=\"244eb89b-71de-48af-82f1-0d431b0293b3\" type=\"checkbox\" ><label class=\"sk-toggleable__label\" for=\"244eb89b-71de-48af-82f1-0d431b0293b3\">FunctionTransformer</label><div class=\"sk-toggleable__content\"><pre>FunctionTransformer(func=<function fill_missing at 0x0000024D242D3280>)</pre></div></div></div><div class=\"sk-item\"><div class=\"sk-estimator sk-toggleable\"><input class=\"sk-toggleable__control sk-hidden--visually\" id=\"1edccc9d-823c-4a18-88f9-9f40b6b2db98\" type=\"checkbox\" ><label class=\"sk-toggleable__label\" for=\"1edccc9d-823c-4a18-88f9-9f40b6b2db98\">StandardScaler</label><div class=\"sk-toggleable__content\"><pre>StandardScaler()</pre></div></div></div></div></div><div class=\"sk-item\"><div class=\"sk-estimator sk-toggleable\"><input class=\"sk-toggleable__control sk-hidden--visually\" id=\"0e5fdfc7-3a9b-4683-b680-3769ebee1b55\" type=\"checkbox\" ><label class=\"sk-toggleable__label\" for=\"0e5fdfc7-3a9b-4683-b680-3769ebee1b55\">MLPClassifier</label><div class=\"sk-toggleable__content\"><pre>MLPClassifier(activation='tanh', alpha=0.1, hidden_layer_sizes=30,\n",
       "              max_iter=2500, random_state=0, solver='lbfgs')</pre></div></div></div></div></div></div></div>"
      ],
      "text/plain": [
       "Pipeline(steps=[('pipeline',\n",
       "                 Pipeline(steps=[('functiontransformer',\n",
       "                                  FunctionTransformer(func=<function fill_missing at 0x0000024D242D3280>)),\n",
       "                                 ('standardscaler', StandardScaler())])),\n",
       "                ('mlpclassifier',\n",
       "                 MLPClassifier(activation='tanh', alpha=0.1,\n",
       "                               hidden_layer_sizes=30, max_iter=2500,\n",
       "                               random_state=0, solver='lbfgs'))])"
      ]
     },
     "execution_count": 37,
     "metadata": {},
     "output_type": "execute_result"
    }
   ],
   "source": [
    "full_pipeline.fit(train_X_df, train_y_sr)"
   ]
  },
  {
   "cell_type": "markdown",
   "metadata": {},
   "source": [
    "## Đánh giá mô hình"
   ]
  },
  {
   "cell_type": "markdown",
   "metadata": {},
   "source": [
    "**Tiến hành dự đoán output**"
   ]
  },
  {
   "cell_type": "code",
   "execution_count": 38,
   "metadata": {},
   "outputs": [],
   "source": [
    "pred_y = full_pipeline.predict(test_X_df)"
   ]
  },
  {
   "cell_type": "markdown",
   "metadata": {},
   "source": [
    "**Output kỳ vọng và output dự đoán được**"
   ]
  },
  {
   "cell_type": "code",
   "execution_count": 39,
   "metadata": {},
   "outputs": [
    {
     "name": "stdout",
     "output_type": "stream",
     "text": [
      "360    1\n",
      "957    1\n",
      "171    0\n",
      "328    1\n",
      "213    2\n",
      "      ..\n",
      "510    0\n",
      "731    4\n",
      "950    0\n",
      "791    0\n",
      "172    0\n",
      "Length: 313, dtype: int64\n"
     ]
    }
   ],
   "source": [
    "print(test_y_sr)"
   ]
  },
  {
   "cell_type": "code",
   "execution_count": 40,
   "metadata": {},
   "outputs": [
    {
     "name": "stdout",
     "output_type": "stream",
     "text": [
      "[1 1 0 0 2 1 1 0 0 2 1 4 3 0 3 0 1 1 2 0 1 1 1 1 1 1 1 0 4 1 5 1 2 3 5 3 2\n",
      " 3 1 1 1 1 1 3 0 2 0 0 2 0 1 0 0 3 0 1 1 0 1 1 4 0 0 1 4 2 1 5 1 0 2 1 1 1\n",
      " 2 1 1 3 1 5 1 1 3 4 3 1 2 2 4 1 0 1 3 1 2 3 3 2 2 0 1 1 1 2 3 5 2 0 2 3 1\n",
      " 1 0 1 3 0 3 2 2 0 1 1 3 1 1 2 2 4 1 1 0 4 0 0 1 0 0 2 1 1 0 3 1 1 1 3 0 4\n",
      " 0 5 1 1 0 0 0 1 1 1 0 1 1 1 3 1 1 1 1 0 1 1 1 3 2 1 1 0 1 3 1 2 1 1 2 3 1\n",
      " 2 4 1 2 5 1 5 3 1 2 0 3 1 1 0 0 1 2 0 1 3 0 3 1 1 0 2 2 0 0 2 3 0 0 0 3 2\n",
      " 1 0 0 0 1 0 0 1 1 1 3 1 1 0 0 1 5 1 5 3 1 2 0 0 4 1 2 3 4 1 5 1 1 2 1 1 1\n",
      " 2 0 3 3 3 1 4 5 0 0 0 3 1 0 1 1 1 0 0 1 1 5 1 2 1 0 1 0 0 1 0 3 2 4 2 2 1\n",
      " 1 0 1 3 1 4 3 0 3 0 3 2 0 5 1 0 0]\n"
     ]
    }
   ],
   "source": [
    "print(pred_y)"
   ]
  },
  {
   "cell_type": "markdown",
   "metadata": {},
   "source": [
    "**Độ chính xác**"
   ]
  },
  {
   "cell_type": "code",
   "execution_count": 41,
   "metadata": {},
   "outputs": [
    {
     "data": {
      "text/plain": [
       "92.33226837060703"
      ]
     },
     "execution_count": 41,
     "metadata": {},
     "output_type": "execute_result"
    }
   ],
   "source": [
    "full_pipeline.score(test_X_df, test_y_sr)*100"
   ]
  },
  {
   "cell_type": "markdown",
   "metadata": {},
   "source": [
    "**Độ lỗi trên tập test**"
   ]
  },
  {
   "cell_type": "code",
   "execution_count": 42,
   "metadata": {},
   "outputs": [
    {
     "data": {
      "text/plain": [
       "7.667731629392971"
      ]
     },
     "execution_count": 42,
     "metadata": {},
     "output_type": "execute_result"
    }
   ],
   "source": [
    "(1 - full_pipeline.score(test_X_df, test_y_sr))*100"
   ]
  },
  {
   "cell_type": "code",
   "execution_count": null,
   "metadata": {},
   "outputs": [],
   "source": []
  }
 ],
 "metadata": {
  "kernelspec": {
   "display_name": "Python 3",
   "language": "python",
   "name": "python3"
  },
  "language_info": {
   "codemirror_mode": {
    "name": "ipython",
    "version": 3
   },
   "file_extension": ".py",
   "mimetype": "text/x-python",
   "name": "python",
   "nbconvert_exporter": "python",
   "pygments_lexer": "ipython3",
   "version": "3.8.3"
  }
 },
 "nbformat": 4,
 "nbformat_minor": 4
}
