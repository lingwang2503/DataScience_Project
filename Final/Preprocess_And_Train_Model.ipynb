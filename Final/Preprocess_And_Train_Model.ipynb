{
 "cells": [
  {
   "cell_type": "code",
   "execution_count": 1,
   "metadata": {},
   "outputs": [],
   "source": [
    "import pandas as pd\n",
    "from sklearn.model_selection import train_test_split\n",
    "from sklearn.preprocessing import OneHotEncoder, StandardScaler\n",
    "from sklearn.base import BaseEstimator, TransformerMixin\n",
    "from sklearn.pipeline import Pipeline, make_pipeline\n",
    "from sklearn.preprocessing import FunctionTransformer\n",
    "from sklearn.neural_network import MLPClassifier\n",
    "from sklearn import set_config\n",
    "set_config(display='diagram') \n",
    "import numpy as np"
   ]
  },
  {
   "cell_type": "code",
   "execution_count": 2,
   "metadata": {
    "scrolled": false
   },
   "outputs": [
    {
     "data": {
      "text/html": [
       "<div>\n",
       "<style scoped>\n",
       "    .dataframe tbody tr th:only-of-type {\n",
       "        vertical-align: middle;\n",
       "    }\n",
       "\n",
       "    .dataframe tbody tr th {\n",
       "        vertical-align: top;\n",
       "    }\n",
       "\n",
       "    .dataframe thead th {\n",
       "        text-align: right;\n",
       "    }\n",
       "</style>\n",
       "<table border=\"1\" class=\"dataframe\">\n",
       "  <thead>\n",
       "    <tr style=\"text-align: right;\">\n",
       "      <th></th>\n",
       "      <th>City</th>\n",
       "      <th>Level</th>\n",
       "      <th>PM2.5</th>\n",
       "      <th>PM10</th>\n",
       "      <th>O3</th>\n",
       "      <th>NO2</th>\n",
       "      <th>SO2</th>\n",
       "      <th>CO</th>\n",
       "    </tr>\n",
       "  </thead>\n",
       "  <tbody>\n",
       "    <tr>\n",
       "      <th>0</th>\n",
       "      <td>Dhaka</td>\n",
       "      <td>Very Unhealthy</td>\n",
       "      <td>227.5</td>\n",
       "      <td>NaN</td>\n",
       "      <td>NaN</td>\n",
       "      <td>NaN</td>\n",
       "      <td>NaN</td>\n",
       "      <td>NaN</td>\n",
       "    </tr>\n",
       "    <tr>\n",
       "      <th>1</th>\n",
       "      <td>Delhi</td>\n",
       "      <td>Very Unhealthy</td>\n",
       "      <td>137.7</td>\n",
       "      <td>201.2</td>\n",
       "      <td>9.8</td>\n",
       "      <td>35.0</td>\n",
       "      <td>12.6</td>\n",
       "      <td>1181.7</td>\n",
       "    </tr>\n",
       "    <tr>\n",
       "      <th>2</th>\n",
       "      <td>Bishkek</td>\n",
       "      <td>Very Unhealthy</td>\n",
       "      <td>157.4</td>\n",
       "      <td>2.2</td>\n",
       "      <td>NaN</td>\n",
       "      <td>NaN</td>\n",
       "      <td>NaN</td>\n",
       "      <td>NaN</td>\n",
       "    </tr>\n",
       "    <tr>\n",
       "      <th>3</th>\n",
       "      <td>Kathmandu</td>\n",
       "      <td>Unhealthy</td>\n",
       "      <td>112.2</td>\n",
       "      <td>198.5</td>\n",
       "      <td>14.8</td>\n",
       "      <td>NaN</td>\n",
       "      <td>NaN</td>\n",
       "      <td>NaN</td>\n",
       "    </tr>\n",
       "    <tr>\n",
       "      <th>4</th>\n",
       "      <td>Lahore</td>\n",
       "      <td>Unhealthy</td>\n",
       "      <td>104.5</td>\n",
       "      <td>NaN</td>\n",
       "      <td>NaN</td>\n",
       "      <td>NaN</td>\n",
       "      <td>NaN</td>\n",
       "      <td>NaN</td>\n",
       "    </tr>\n",
       "    <tr>\n",
       "      <th>...</th>\n",
       "      <td>...</td>\n",
       "      <td>...</td>\n",
       "      <td>...</td>\n",
       "      <td>...</td>\n",
       "      <td>...</td>\n",
       "      <td>...</td>\n",
       "      <td>...</td>\n",
       "      <td>...</td>\n",
       "    </tr>\n",
       "    <tr>\n",
       "      <th>766</th>\n",
       "      <td>Ourense, Galicia</td>\n",
       "      <td>Unhealthy For Sensitive Groups</td>\n",
       "      <td>44.2</td>\n",
       "      <td>119.8</td>\n",
       "      <td>1.0</td>\n",
       "      <td>NaN</td>\n",
       "      <td>1.2</td>\n",
       "      <td>NaN</td>\n",
       "    </tr>\n",
       "    <tr>\n",
       "      <th>767</th>\n",
       "      <td>Valdemoro, Madrid</td>\n",
       "      <td>Unhealthy For Sensitive Groups</td>\n",
       "      <td>44.0</td>\n",
       "      <td>NaN</td>\n",
       "      <td>10.0</td>\n",
       "      <td>1.0</td>\n",
       "      <td>NaN</td>\n",
       "      <td>NaN</td>\n",
       "    </tr>\n",
       "    <tr>\n",
       "      <th>768</th>\n",
       "      <td>Villa del Prado, Madrid</td>\n",
       "      <td>Unhealthy For Sensitive Groups</td>\n",
       "      <td>44.0</td>\n",
       "      <td>0.0</td>\n",
       "      <td>1.0</td>\n",
       "      <td>44.0</td>\n",
       "      <td>1.0</td>\n",
       "      <td>0.0</td>\n",
       "    </tr>\n",
       "    <tr>\n",
       "      <th>769</th>\n",
       "      <td>Fiq, Quneitra</td>\n",
       "      <td>Moderate</td>\n",
       "      <td>14.0</td>\n",
       "      <td>NaN</td>\n",
       "      <td>NaN</td>\n",
       "      <td>NaN</td>\n",
       "      <td>NaN</td>\n",
       "      <td>NaN</td>\n",
       "    </tr>\n",
       "    <tr>\n",
       "      <th>770</th>\n",
       "      <td>Arwad, Tartus</td>\n",
       "      <td>Good</td>\n",
       "      <td>3.0</td>\n",
       "      <td>12.9</td>\n",
       "      <td>NaN</td>\n",
       "      <td>33.5</td>\n",
       "      <td>1.3</td>\n",
       "      <td>NaN</td>\n",
       "    </tr>\n",
       "  </tbody>\n",
       "</table>\n",
       "<p>771 rows × 8 columns</p>\n",
       "</div>"
      ],
      "text/plain": [
       "                        City                           Level  PM2.5   PM10  \\\n",
       "0                      Dhaka                  Very Unhealthy  227.5    NaN   \n",
       "1                      Delhi                  Very Unhealthy  137.7  201.2   \n",
       "2                    Bishkek                  Very Unhealthy  157.4    2.2   \n",
       "3                  Kathmandu                       Unhealthy  112.2  198.5   \n",
       "4                     Lahore                       Unhealthy  104.5    NaN   \n",
       "..                       ...                             ...    ...    ...   \n",
       "766         Ourense, Galicia  Unhealthy For Sensitive Groups   44.2  119.8   \n",
       "767        Valdemoro, Madrid  Unhealthy For Sensitive Groups   44.0    NaN   \n",
       "768  Villa del Prado, Madrid  Unhealthy For Sensitive Groups   44.0    0.0   \n",
       "769            Fiq, Quneitra                        Moderate   14.0    NaN   \n",
       "770            Arwad, Tartus                            Good    3.0   12.9   \n",
       "\n",
       "       O3   NO2   SO2      CO  \n",
       "0     NaN   NaN   NaN     NaN  \n",
       "1     9.8  35.0  12.6  1181.7  \n",
       "2     NaN   NaN   NaN     NaN  \n",
       "3    14.8   NaN   NaN     NaN  \n",
       "4     NaN   NaN   NaN     NaN  \n",
       "..    ...   ...   ...     ...  \n",
       "766   1.0   NaN   1.2     NaN  \n",
       "767  10.0   1.0   NaN     NaN  \n",
       "768   1.0  44.0   1.0     0.0  \n",
       "769   NaN   NaN   NaN     NaN  \n",
       "770   NaN  33.5   1.3     NaN  \n",
       "\n",
       "[771 rows x 8 columns]"
      ]
     },
     "execution_count": 2,
     "metadata": {},
     "output_type": "execute_result"
    }
   ],
   "source": [
    "data_df = pd.read_csv('total_data.csv', index_col=0)\n",
    "data_df"
   ]
  },
  {
   "cell_type": "code",
   "execution_count": 3,
   "metadata": {
    "scrolled": true
   },
   "outputs": [
    {
     "data": {
      "text/plain": [
       "0"
      ]
     },
     "execution_count": 3,
     "metadata": {},
     "output_type": "execute_result"
    }
   ],
   "source": [
    "data_df.index.duplicated().sum()"
   ]
  },
  {
   "cell_type": "code",
   "execution_count": 4,
   "metadata": {},
   "outputs": [
    {
     "data": {
      "text/plain": [
       "dtype('O')"
      ]
     },
     "execution_count": 4,
     "metadata": {},
     "output_type": "execute_result"
    }
   ],
   "source": [
    "data_df['Level'].dtype"
   ]
  },
  {
   "cell_type": "code",
   "execution_count": 5,
   "metadata": {},
   "outputs": [
    {
     "data": {
      "text/plain": [
       "4"
      ]
     },
     "execution_count": 5,
     "metadata": {},
     "output_type": "execute_result"
    }
   ],
   "source": [
    "data_df['Level'].isna().sum()"
   ]
  },
  {
   "cell_type": "code",
   "execution_count": 6,
   "metadata": {},
   "outputs": [
    {
     "data": {
      "text/plain": [
       "0"
      ]
     },
     "execution_count": 6,
     "metadata": {},
     "output_type": "execute_result"
    }
   ],
   "source": [
    "#loai bo cac dong khong co du lieu Level\n",
    "data_df = data_df[data_df['Level'].notna()]\n",
    "data_df['Level'].isna().sum()"
   ]
  },
  {
   "cell_type": "code",
   "execution_count": 7,
   "metadata": {},
   "outputs": [
    {
     "data": {
      "text/plain": [
       "Moderate                          38.722295\n",
       "Good                              25.814863\n",
       "Unhealthy For Sensitive Groups    15.254237\n",
       "Unhealthy                         13.559322\n",
       "Very Unhealthy                     3.389831\n",
       "Hazardous                          3.259452\n",
       "Name: Level, dtype: float64"
      ]
     },
     "execution_count": 7,
     "metadata": {},
     "output_type": "execute_result"
    }
   ],
   "source": [
    "temp = data_df['Level'].value_counts(normalize=True) * 100\n",
    "temp"
   ]
  },
  {
   "cell_type": "code",
   "execution_count": 8,
   "metadata": {},
   "outputs": [],
   "source": [
    "# Tách X và y\n",
    "y_sr = data_df[\"Level\"]\n",
    "X_df = data_df.drop(\"Level\", axis=1)\n"
   ]
  },
  {
   "cell_type": "code",
   "execution_count": 9,
   "metadata": {},
   "outputs": [
    {
     "data": {
      "text/plain": [
       "0                      Very Unhealthy\n",
       "1                      Very Unhealthy\n",
       "2                      Very Unhealthy\n",
       "3                           Unhealthy\n",
       "4                           Unhealthy\n",
       "                    ...              \n",
       "766    Unhealthy For Sensitive Groups\n",
       "767    Unhealthy For Sensitive Groups\n",
       "768    Unhealthy For Sensitive Groups\n",
       "769                          Moderate\n",
       "770                              Good\n",
       "Name: Level, Length: 767, dtype: object"
      ]
     },
     "execution_count": 9,
     "metadata": {},
     "output_type": "execute_result"
    }
   ],
   "source": [
    "y_sr"
   ]
  },
  {
   "cell_type": "code",
   "execution_count": 10,
   "metadata": {},
   "outputs": [
    {
     "data": {
      "text/html": [
       "<div>\n",
       "<style scoped>\n",
       "    .dataframe tbody tr th:only-of-type {\n",
       "        vertical-align: middle;\n",
       "    }\n",
       "\n",
       "    .dataframe tbody tr th {\n",
       "        vertical-align: top;\n",
       "    }\n",
       "\n",
       "    .dataframe thead th {\n",
       "        text-align: right;\n",
       "    }\n",
       "</style>\n",
       "<table border=\"1\" class=\"dataframe\">\n",
       "  <thead>\n",
       "    <tr style=\"text-align: right;\">\n",
       "      <th></th>\n",
       "      <th>City</th>\n",
       "      <th>PM2.5</th>\n",
       "      <th>PM10</th>\n",
       "      <th>O3</th>\n",
       "      <th>NO2</th>\n",
       "      <th>SO2</th>\n",
       "      <th>CO</th>\n",
       "    </tr>\n",
       "  </thead>\n",
       "  <tbody>\n",
       "    <tr>\n",
       "      <th>0</th>\n",
       "      <td>Dhaka</td>\n",
       "      <td>227.5</td>\n",
       "      <td>NaN</td>\n",
       "      <td>NaN</td>\n",
       "      <td>NaN</td>\n",
       "      <td>NaN</td>\n",
       "      <td>NaN</td>\n",
       "    </tr>\n",
       "    <tr>\n",
       "      <th>1</th>\n",
       "      <td>Delhi</td>\n",
       "      <td>137.7</td>\n",
       "      <td>201.2</td>\n",
       "      <td>9.8</td>\n",
       "      <td>35.0</td>\n",
       "      <td>12.6</td>\n",
       "      <td>1181.7</td>\n",
       "    </tr>\n",
       "    <tr>\n",
       "      <th>2</th>\n",
       "      <td>Bishkek</td>\n",
       "      <td>157.4</td>\n",
       "      <td>2.2</td>\n",
       "      <td>NaN</td>\n",
       "      <td>NaN</td>\n",
       "      <td>NaN</td>\n",
       "      <td>NaN</td>\n",
       "    </tr>\n",
       "    <tr>\n",
       "      <th>3</th>\n",
       "      <td>Kathmandu</td>\n",
       "      <td>112.2</td>\n",
       "      <td>198.5</td>\n",
       "      <td>14.8</td>\n",
       "      <td>NaN</td>\n",
       "      <td>NaN</td>\n",
       "      <td>NaN</td>\n",
       "    </tr>\n",
       "    <tr>\n",
       "      <th>4</th>\n",
       "      <td>Lahore</td>\n",
       "      <td>104.5</td>\n",
       "      <td>NaN</td>\n",
       "      <td>NaN</td>\n",
       "      <td>NaN</td>\n",
       "      <td>NaN</td>\n",
       "      <td>NaN</td>\n",
       "    </tr>\n",
       "    <tr>\n",
       "      <th>...</th>\n",
       "      <td>...</td>\n",
       "      <td>...</td>\n",
       "      <td>...</td>\n",
       "      <td>...</td>\n",
       "      <td>...</td>\n",
       "      <td>...</td>\n",
       "      <td>...</td>\n",
       "    </tr>\n",
       "    <tr>\n",
       "      <th>766</th>\n",
       "      <td>Ourense, Galicia</td>\n",
       "      <td>44.2</td>\n",
       "      <td>119.8</td>\n",
       "      <td>1.0</td>\n",
       "      <td>NaN</td>\n",
       "      <td>1.2</td>\n",
       "      <td>NaN</td>\n",
       "    </tr>\n",
       "    <tr>\n",
       "      <th>767</th>\n",
       "      <td>Valdemoro, Madrid</td>\n",
       "      <td>44.0</td>\n",
       "      <td>NaN</td>\n",
       "      <td>10.0</td>\n",
       "      <td>1.0</td>\n",
       "      <td>NaN</td>\n",
       "      <td>NaN</td>\n",
       "    </tr>\n",
       "    <tr>\n",
       "      <th>768</th>\n",
       "      <td>Villa del Prado, Madrid</td>\n",
       "      <td>44.0</td>\n",
       "      <td>0.0</td>\n",
       "      <td>1.0</td>\n",
       "      <td>44.0</td>\n",
       "      <td>1.0</td>\n",
       "      <td>0.0</td>\n",
       "    </tr>\n",
       "    <tr>\n",
       "      <th>769</th>\n",
       "      <td>Fiq, Quneitra</td>\n",
       "      <td>14.0</td>\n",
       "      <td>NaN</td>\n",
       "      <td>NaN</td>\n",
       "      <td>NaN</td>\n",
       "      <td>NaN</td>\n",
       "      <td>NaN</td>\n",
       "    </tr>\n",
       "    <tr>\n",
       "      <th>770</th>\n",
       "      <td>Arwad, Tartus</td>\n",
       "      <td>3.0</td>\n",
       "      <td>12.9</td>\n",
       "      <td>NaN</td>\n",
       "      <td>33.5</td>\n",
       "      <td>1.3</td>\n",
       "      <td>NaN</td>\n",
       "    </tr>\n",
       "  </tbody>\n",
       "</table>\n",
       "<p>767 rows × 7 columns</p>\n",
       "</div>"
      ],
      "text/plain": [
       "                        City  PM2.5   PM10    O3   NO2   SO2      CO\n",
       "0                      Dhaka  227.5    NaN   NaN   NaN   NaN     NaN\n",
       "1                      Delhi  137.7  201.2   9.8  35.0  12.6  1181.7\n",
       "2                    Bishkek  157.4    2.2   NaN   NaN   NaN     NaN\n",
       "3                  Kathmandu  112.2  198.5  14.8   NaN   NaN     NaN\n",
       "4                     Lahore  104.5    NaN   NaN   NaN   NaN     NaN\n",
       "..                       ...    ...    ...   ...   ...   ...     ...\n",
       "766         Ourense, Galicia   44.2  119.8   1.0   NaN   1.2     NaN\n",
       "767        Valdemoro, Madrid   44.0    NaN  10.0   1.0   NaN     NaN\n",
       "768  Villa del Prado, Madrid   44.0    0.0   1.0  44.0   1.0     0.0\n",
       "769            Fiq, Quneitra   14.0    NaN   NaN   NaN   NaN     NaN\n",
       "770            Arwad, Tartus    3.0   12.9   NaN  33.5   1.3     NaN\n",
       "\n",
       "[767 rows x 7 columns]"
      ]
     },
     "execution_count": 10,
     "metadata": {},
     "output_type": "execute_result"
    }
   ],
   "source": [
    "X_df"
   ]
  },
  {
   "cell_type": "code",
   "execution_count": 11,
   "metadata": {},
   "outputs": [],
   "source": [
    "#Tách tập train, test và validation\n",
    "trainval_X_df, test_X_df, trainval_y_sr, test_y_sr = train_test_split(X_df, y_sr, test_size=0.3, random_state=None, stratify = y_sr)\n",
    "train_X_df, val_X_df, train_y_sr, val_y_sr = train_test_split(trainval_X_df, trainval_y_sr, test_size=0.3, random_state=None, stratify = trainval_y_sr)"
   ]
  },
  {
   "cell_type": "code",
   "execution_count": 12,
   "metadata": {},
   "outputs": [
    {
     "data": {
      "text/plain": [
       "(375, 7)"
      ]
     },
     "execution_count": 12,
     "metadata": {},
     "output_type": "execute_result"
    }
   ],
   "source": [
    "train_X_df.shape"
   ]
  },
  {
   "cell_type": "code",
   "execution_count": 13,
   "metadata": {},
   "outputs": [
    {
     "data": {
      "text/plain": [
       "(375,)"
      ]
     },
     "execution_count": 13,
     "metadata": {},
     "output_type": "execute_result"
    }
   ],
   "source": [
    "train_y_sr.shape"
   ]
  },
  {
   "cell_type": "code",
   "execution_count": 14,
   "metadata": {},
   "outputs": [
    {
     "data": {
      "text/plain": [
       "(161, 7)"
      ]
     },
     "execution_count": 14,
     "metadata": {},
     "output_type": "execute_result"
    }
   ],
   "source": [
    "val_X_df.shape"
   ]
  },
  {
   "cell_type": "code",
   "execution_count": 15,
   "metadata": {},
   "outputs": [
    {
     "data": {
      "text/plain": [
       "(161,)"
      ]
     },
     "execution_count": 15,
     "metadata": {},
     "output_type": "execute_result"
    }
   ],
   "source": [
    "val_y_sr.shape"
   ]
  },
  {
   "cell_type": "code",
   "execution_count": 16,
   "metadata": {},
   "outputs": [
    {
     "data": {
      "text/plain": [
       "Int64Index([ 31, 512, 168, 475, 265, 438, 228, 669, 585, 175,\n",
       "            ...\n",
       "            105, 270, 700, 203,  78, 274, 588, 651, 634, 155],\n",
       "           dtype='int64', length=375)"
      ]
     },
     "execution_count": 16,
     "metadata": {},
     "output_type": "execute_result"
    }
   ],
   "source": [
    "train_X_df.index"
   ]
  },
  {
   "cell_type": "code",
   "execution_count": 17,
   "metadata": {},
   "outputs": [
    {
     "data": {
      "text/plain": [
       "City      object\n",
       "PM2.5    float64\n",
       "PM10     float64\n",
       "O3       float64\n",
       "NO2      float64\n",
       "SO2      float64\n",
       "CO       float64\n",
       "dtype: object"
      ]
     },
     "execution_count": 17,
     "metadata": {},
     "output_type": "execute_result"
    }
   ],
   "source": [
    "train_X_df.dtypes"
   ]
  },
  {
   "cell_type": "code",
   "execution_count": 18,
   "metadata": {},
   "outputs": [
    {
     "data": {
      "text/plain": [
       "PM2.5    float64\n",
       "PM10     float64\n",
       "O3       float64\n",
       "NO2      float64\n",
       "SO2      float64\n",
       "CO       float64\n",
       "dtype: object"
      ]
     },
     "execution_count": 18,
     "metadata": {},
     "output_type": "execute_result"
    }
   ],
   "source": [
    "train_X_df.dtypes[train_X_df.dtypes != object]"
   ]
  },
  {
   "cell_type": "code",
   "execution_count": 19,
   "metadata": {},
   "outputs": [
    {
     "data": {
      "text/html": [
       "<div>\n",
       "<style scoped>\n",
       "    .dataframe tbody tr th:only-of-type {\n",
       "        vertical-align: middle;\n",
       "    }\n",
       "\n",
       "    .dataframe tbody tr th {\n",
       "        vertical-align: top;\n",
       "    }\n",
       "\n",
       "    .dataframe thead th {\n",
       "        text-align: right;\n",
       "    }\n",
       "</style>\n",
       "<table border=\"1\" class=\"dataframe\">\n",
       "  <thead>\n",
       "    <tr style=\"text-align: right;\">\n",
       "      <th></th>\n",
       "      <th>PM2.5</th>\n",
       "      <th>PM10</th>\n",
       "      <th>O3</th>\n",
       "      <th>NO2</th>\n",
       "      <th>SO2</th>\n",
       "      <th>CO</th>\n",
       "    </tr>\n",
       "  </thead>\n",
       "  <tbody>\n",
       "    <tr>\n",
       "      <th>missing_ratio</th>\n",
       "      <td>1.6</td>\n",
       "      <td>42.1</td>\n",
       "      <td>66.9</td>\n",
       "      <td>54.1</td>\n",
       "      <td>67.5</td>\n",
       "      <td>79.5</td>\n",
       "    </tr>\n",
       "    <tr>\n",
       "      <th>min</th>\n",
       "      <td>0.0</td>\n",
       "      <td>0.0</td>\n",
       "      <td>0.0</td>\n",
       "      <td>0.0</td>\n",
       "      <td>0.0</td>\n",
       "      <td>0.0</td>\n",
       "    </tr>\n",
       "    <tr>\n",
       "      <th>lower_quartile</th>\n",
       "      <td>11.6</td>\n",
       "      <td>16.5</td>\n",
       "      <td>8.3</td>\n",
       "      <td>11.9</td>\n",
       "      <td>2.6</td>\n",
       "      <td>9.0</td>\n",
       "    </tr>\n",
       "    <tr>\n",
       "      <th>median</th>\n",
       "      <td>25.4</td>\n",
       "      <td>30.0</td>\n",
       "      <td>20.7</td>\n",
       "      <td>24.2</td>\n",
       "      <td>7.0</td>\n",
       "      <td>510.0</td>\n",
       "    </tr>\n",
       "    <tr>\n",
       "      <th>upper_quartile</th>\n",
       "      <td>48.2</td>\n",
       "      <td>61.0</td>\n",
       "      <td>36.0</td>\n",
       "      <td>41.8</td>\n",
       "      <td>15.4</td>\n",
       "      <td>1019.9</td>\n",
       "    </tr>\n",
       "    <tr>\n",
       "      <th>max</th>\n",
       "      <td>328.0</td>\n",
       "      <td>1159.0</td>\n",
       "      <td>100.0</td>\n",
       "      <td>310.0</td>\n",
       "      <td>215.0</td>\n",
       "      <td>2920.0</td>\n",
       "    </tr>\n",
       "  </tbody>\n",
       "</table>\n",
       "</div>"
      ],
      "text/plain": [
       "                PM2.5    PM10     O3    NO2    SO2      CO\n",
       "missing_ratio     1.6    42.1   66.9   54.1   67.5    79.5\n",
       "min               0.0     0.0    0.0    0.0    0.0     0.0\n",
       "lower_quartile   11.6    16.5    8.3   11.9    2.6     9.0\n",
       "median           25.4    30.0   20.7   24.2    7.0   510.0\n",
       "upper_quartile   48.2    61.0   36.0   41.8   15.4  1019.9\n",
       "max             328.0  1159.0  100.0  310.0  215.0  2920.0"
      ]
     },
     "execution_count": 19,
     "metadata": {},
     "output_type": "execute_result"
    }
   ],
   "source": [
    "#quan sát phân bố của các cột số\n",
    "num_cols = ['PM2.5', 'PM10', 'O3', 'NO2', 'SO2', 'CO']\n",
    "df = train_X_df[num_cols]\n",
    "def missing_ratio(df):\n",
    "    return (df.isna().mean() * 100).round(1)\n",
    "def lower_quartile(df):\n",
    "    return df.quantile(0.25).round(1)\n",
    "def median(df):\n",
    "    return df.quantile(0.5).round(1)\n",
    "def upper_quartile(df):\n",
    "    return df.quantile(0.75).round(1)\n",
    "df.agg([missing_ratio, 'min', lower_quartile, median, upper_quartile, 'max'])\n",
    "\n"
   ]
  },
  {
   "cell_type": "code",
   "execution_count": 20,
   "metadata": {},
   "outputs": [],
   "source": [
    "#hàm tiền xử lý\n",
    "def fill_missing(X_df):\n",
    "    num_cols = ['PM2.5', 'PM10', 'O3', 'NO2', 'SO2', 'CO']\n",
    "    df = X_df.copy()\n",
    "    #thay 'nan' bằng 0.0\n",
    "    df[num_cols] = X_df[num_cols].fillna(0)\n",
    "    #xóa cột City vì là cột định danh không cần thiết cho mô hình\n",
    "    df = df.drop(columns=['City'])\n",
    "    return df"
   ]
  },
  {
   "cell_type": "code",
   "execution_count": 21,
   "metadata": {},
   "outputs": [],
   "source": [
    "#sử dụng FunctionTransformer để transform tập dữ liệu\n",
    "transform = FunctionTransformer(fill_missing)\n"
   ]
  },
  {
   "cell_type": "code",
   "execution_count": 22,
   "metadata": {},
   "outputs": [],
   "source": [
    "#tạo pipeline cho tiền XL\n",
    "preprocess_pipeline = make_pipeline(FunctionTransformer(fill_missing), StandardScaler())\n"
   ]
  },
  {
   "cell_type": "code",
   "execution_count": 23,
   "metadata": {},
   "outputs": [
    {
     "data": {
      "text/plain": [
       "array([[-0.16303094,  0.1441983 ,  1.72518815,  1.0627351 ,  0.46775718,\n",
       "         1.27665953],\n",
       "       [-0.63899564, -0.28446176, -0.50686809, -0.15629385, -0.10123815,\n",
       "        -0.31776386],\n",
       "       [-0.67629138, -0.30273501, -0.50686809, -0.38575813, -0.28894796,\n",
       "        -0.31776386],\n",
       "       ...,\n",
       "       [-0.52178045, -0.19918658, -0.37932201,  1.22407716, -0.28894796,\n",
       "        -0.31776386],\n",
       "       [-0.52178045, -0.1611173 , -0.50686809, -0.10251316, -0.28894796,\n",
       "        -0.31776386],\n",
       "       [-0.72246706, -0.34384983, -0.50686809, -0.53275868, -0.28894796,\n",
       "        -0.31776386]])"
      ]
     },
     "execution_count": 23,
     "metadata": {},
     "output_type": "execute_result"
    }
   ],
   "source": [
    "#preprocess tập train\n",
    "preprocess_train_X = preprocess_pipeline.fit_transform(train_X_df)\n",
    "preprocess_train_X"
   ]
  },
  {
   "cell_type": "code",
   "execution_count": 24,
   "metadata": {},
   "outputs": [
    {
     "data": {
      "text/plain": [
       "(161, 6)"
      ]
     },
     "execution_count": 24,
     "metadata": {},
     "output_type": "execute_result"
    }
   ],
   "source": [
    "#preprocess tập validation\n",
    "preprocessed_val_X = preprocess_pipeline.transform(val_X_df)\n",
    "preprocessed_val_X.shape"
   ]
  },
  {
   "cell_type": "code",
   "execution_count": 25,
   "metadata": {},
   "outputs": [
    {
     "data": {
      "text/plain": [
       "Moderate                          145\n",
       "Good                               97\n",
       "Unhealthy For Sensitive Groups     57\n",
       "Unhealthy                          51\n",
       "Very Unhealthy                     13\n",
       "Hazardous                          12\n",
       "Name: Level, dtype: int64"
      ]
     },
     "execution_count": 25,
     "metadata": {},
     "output_type": "execute_result"
    }
   ],
   "source": [
    "train_y_sr.value_counts()"
   ]
  },
  {
   "cell_type": "code",
   "execution_count": 26,
   "metadata": {},
   "outputs": [],
   "source": [
    "#chuyển ouput thành các cấp độ để dễ nhiều \n",
    "def transform_y(train_y_sr):\n",
    "    new_y = []\n",
    "    for index, value in train_y_sr.items():\n",
    "        if value == 'Good':\n",
    "            new_y.append(0)\n",
    "        elif value == 'Moderate':\n",
    "            new_y.append(1)\n",
    "        elif value =='Unhealthy For Sensitive Groups':\n",
    "            new_y.append(2)\n",
    "        elif value == 'Unhealthy':\n",
    "            new_y.append(3)\n",
    "        elif value == 'Very Unhealthy':\n",
    "            new_y.append(4)\n",
    "        else:\n",
    "            new_y.append(5)\n",
    "    new_y_sr = pd.Series(new_y)\n",
    "    return new_y_sr"
   ]
  },
  {
   "cell_type": "code",
   "execution_count": 27,
   "metadata": {},
   "outputs": [],
   "source": [
    "new_train_y_sr = transform_y(train_y_sr)\n",
    "new_val_y_sr = transform_y(val_y_sr)\n",
    "new_test_y_sr = transform_y(test_y_sr)"
   ]
  },
  {
   "cell_type": "code",
   "execution_count": 28,
   "metadata": {},
   "outputs": [],
   "source": [
    "neural_net = MLPClassifier(hidden_layer_sizes=(20,), activation='tanh', solver='lbfgs', max_iter=2500, random_state = 0)\n",
    "full_pipeline = make_pipeline(preprocess_pipeline, neural_net)"
   ]
  },
  {
   "cell_type": "code",
   "execution_count": null,
   "metadata": {},
   "outputs": [
    {
     "name": "stderr",
     "output_type": "stream",
     "text": [
      "C:\\Users\\HP\\anaconda3\\lib\\site-packages\\sklearn\\neural_network\\_multilayer_perceptron.py:471: ConvergenceWarning: lbfgs failed to converge (status=1):\n",
      "STOP: TOTAL NO. of ITERATIONS REACHED LIMIT.\n",
      "\n",
      "Increase the number of iterations (max_iter) or scale the data as shown in:\n",
      "    https://scikit-learn.org/stable/modules/preprocessing.html\n",
      "  self.n_iter_ = _check_optimize_result(\"lbfgs\", opt_res, self.max_iter)\n"
     ]
    }
   ],
   "source": [
    "# Thử nghiệm với các giá trị khác nhau của các siêu tham số\n",
    "# và chọn ra các giá trị tốt nhất\n",
    "train_errs = []\n",
    "val_errs = []\n",
    "alphas = [0.00001, 0.001, 0.01, 0.1, 1, 10, 100, 1000]\n",
    "best_val_err = float('inf'); \n",
    "best_alpha = None;\n",
    "li_hidden_layer_sizes = [5, 10, 15, 20, 25, 30]\n",
    "best_hidden_layer_size = None\n",
    "li = []\n",
    "\n",
    "for alpha in alphas:\n",
    "    for x in li_hidden_layer_sizes:\n",
    "        full_pipeline.set_params(mlpclassifier__alpha=alpha, mlpclassifier__hidden_layer_sizes=x)\n",
    "        full_pipeline.fit(train_X_df, new_train_y_sr)\n",
    "        train_err = (1-full_pipeline.score(train_X_df, new_train_y_sr))*100\n",
    "        train_errs.append(train_err)\n",
    "        val_err = (1-full_pipeline.score(val_X_df, new_val_y_sr))*100\n",
    "        val_errs.append(val_err)\n",
    "        li.append([alpha, x])\n",
    "    \n",
    "best_val_err = min(val_errs)\n",
    "best_alpha = li[val_errs.index(best_val_err)][0]\n",
    "best_hidden_layer_size = li[val_errs.index(best_val_err)][1]\n",
    "'Finish!'"
   ]
  },
  {
   "cell_type": "code",
   "execution_count": null,
   "metadata": {},
   "outputs": [],
   "source": [
    "best_alpha"
   ]
  },
  {
   "cell_type": "code",
   "execution_count": null,
   "metadata": {},
   "outputs": [],
   "source": [
    "best_hidden_layer_size"
   ]
  },
  {
   "cell_type": "code",
   "execution_count": null,
   "metadata": {},
   "outputs": [],
   "source": [
    "#sử dụng best_alpha cho mô hình\n",
    "full_pipeline.set_params(mlpclassifier__alpha=best_alpha, mlpclassifier__hidden_layer_sizes=best_hidden_layer_size)"
   ]
  },
  {
   "cell_type": "code",
   "execution_count": null,
   "metadata": {},
   "outputs": [],
   "source": [
    "full_pipeline.fit(train_X_df, new_train_y_sr)"
   ]
  },
  {
   "cell_type": "code",
   "execution_count": null,
   "metadata": {},
   "outputs": [],
   "source": [
    "full_pipeline.score(test_X_df, new_test_y_sr)"
   ]
  },
  {
   "cell_type": "code",
   "execution_count": null,
   "metadata": {},
   "outputs": [],
   "source": [
    "#độ lỗi\n",
    "(1 - full_pipeline.score(test_X_df, new_test_y_sr))*100"
   ]
  },
  {
   "cell_type": "code",
   "execution_count": null,
   "metadata": {},
   "outputs": [],
   "source": []
  }
 ],
 "metadata": {
  "kernelspec": {
   "display_name": "Python 3",
   "language": "python",
   "name": "python3"
  },
  "language_info": {
   "codemirror_mode": {
    "name": "ipython",
    "version": 3
   },
   "file_extension": ".py",
   "mimetype": "text/x-python",
   "name": "python",
   "nbconvert_exporter": "python",
   "pygments_lexer": "ipython3",
   "version": "3.8.3"
  }
 },
 "nbformat": 4,
 "nbformat_minor": 4
}
