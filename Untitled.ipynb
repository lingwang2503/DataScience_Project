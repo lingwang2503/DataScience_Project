{
 "cells": [
  {
   "cell_type": "code",
   "execution_count": 1,
   "metadata": {},
   "outputs": [],
   "source": [
    "from selenium import webdriver\n",
    "from selenium.webdriver.common.keys import Keys\n",
    "import requests\n",
    "from bs4 import BeautifulSoup\n",
    "from selenium.webdriver.common.by import By"
   ]
  },
  {
   "cell_type": "code",
   "execution_count": 39,
   "metadata": {},
   "outputs": [],
   "source": [
    "browser = webdriver.Chrome(executable_path='./chromedriver.exe')\n",
    "#browser.maximize_window()"
   ]
  },
  {
   "cell_type": "code",
   "execution_count": 78,
   "metadata": {},
   "outputs": [
    {
     "data": {
      "text/plain": [
       "\"\\nlinks = tree.find_all('td',{'class' : 'text-left'})\\nurls = []\\nfor link in links:\\n    urls.append('https://www.iqair.com'+link.find('a',{'class' : 'link-primary'})['href'])\\nlen(urls)\\n\""
      ]
     },
     "execution_count": 78,
     "metadata": {},
     "output_type": "execute_result"
    }
   ],
   "source": [
    "url = browser.get('https://www.iqair.com/world-air-quality-ranking')\n",
    "html_text = browser.page_source\n",
    "tree = BeautifulSoup(html_text, 'html.parser')\n",
    "\n",
    "more = tree.find_all('button',{'class':'btn-more ng-star-inserted'})\n",
    "more\n",
    "\n",
    "for i in more:\n",
    "    if 'More' in i:\n",
    "        i.click()\n",
    "\n",
    "'''\n",
    "links = tree.find_all('td',{'class' : 'text-left'})\n",
    "urls = []\n",
    "for link in links:\n",
    "    urls.append('https://www.iqair.com'+link.find('a',{'class' : 'link-primary'})['href'])\n",
    "len(urls)\n",
    "'''\n",
    "\n"
   ]
  },
  {
   "cell_type": "code",
   "execution_count": 52,
   "metadata": {},
   "outputs": [],
   "source": [
    "browser.get('https://www.iqair.com/china/hubei/wuhan')\n",
    "html_text = browser.page_source"
   ]
  },
  {
   "cell_type": "code",
   "execution_count": 53,
   "metadata": {},
   "outputs": [],
   "source": [
    "#url = 'https://www.iqair.com/china/hubei/wuhan'\n",
    "#html_text = requests.get(url).text\n",
    "tree = BeautifulSoup(html_text, 'html.parser')\n",
    "\n",
    "#index = tree.find_all('table', {'class': 'aqi-overview-detail__other-pollution-table'})\n",
    "#index"
   ]
  },
  {
   "cell_type": "code",
   "execution_count": 55,
   "metadata": {},
   "outputs": [],
   "source": [
    "index = tree.find_all('div', {'class': 'pollutant-history-type-buttons ng-star-inserted'})\n",
    "\n",
    "for i in index:\n",
    "    x = browser.find_elements_by_class_name('mat-button-wrapper')\n",
    "    for X in x:\n",
    "        if 'DAILY' in X.text:\n",
    "            X.click()\n",
    "            break"
   ]
  },
  {
   "cell_type": "code",
   "execution_count": 58,
   "metadata": {},
   "outputs": [
    {
     "name": "stdout",
     "output_type": "stream",
     "text": [
      "['AQI', 'PM2.5', 'PM10', 'NO2', 'SO2', 'CO']\n"
     ]
    }
   ],
   "source": [
    "\n",
    "index_list = []\n",
    "for i in index:\n",
    "    x = browser.find_elements_by_class_name('mat-button-wrapper')\n",
    "    for X in x:\n",
    "        if 'AQI' in X.text:\n",
    "            index_list.append('AQI') \n",
    "        if 'PM2.5' in X.text:\n",
    "            index_list.append('PM2.5')\n",
    "        if 'PM10' in X.text:\n",
    "            index_list.append('PM10') \n",
    "        if 'NO2' in X.text:\n",
    "            index_list.append('NO2')\n",
    "        if 'SO2' in X.text:\n",
    "            index_list.append('SO2')\n",
    "        if 'CO' in X.text:\n",
    "            index_list.append('CO')     \n",
    "            \n",
    "print(index_list)"
   ]
  },
  {
   "cell_type": "code",
   "execution_count": 70,
   "metadata": {},
   "outputs": [
    {
     "name": "stdout",
     "output_type": "stream",
     "text": [
      "['AQI', 'PM2.5', 'PM10', 'NO2', 'SO2', 'CO']\n",
      "\n",
      "\n",
      "\n",
      "\n",
      "\n",
      "\n"
     ]
    }
   ],
   "source": [
    "print(index_list)\n",
    "\n",
    "x = browser.find_elements_by_class_name('mat-button-wrapper')\n",
    "for y in index_list:\n",
    "    for X in x:\n",
    "        if y in X.text:\n",
    "            X.click()\n",
    "            html_text = browser.page_source\n",
    "            tree = BeautifulSoup(html_text, 'html.parser')\n",
    "            index2 = tree.find_all('g', {'visibility': 'visible'})\n",
    "            index_value = ''\n",
    "            for k in index2:\n",
    "                index_value = k.find('tspan',{'style' : 'font-weight:bold'}).text\n",
    "            print(index_value)\n",
    "\n",
    "\n",
    "                "
   ]
  },
  {
   "cell_type": "code",
   "execution_count": 30,
   "metadata": {},
   "outputs": [
    {
     "name": "stdout",
     "output_type": "stream",
     "text": [
      "\n"
     ]
    }
   ],
   "source": [
    "'''\n",
    "html_text = browser.page_source\n",
    "\n",
    "tree = BeautifulSoup(html_text, 'html.parser')\n",
    "index = tree.find_all('g', {'visibility': 'visible'})\n",
    "index\n",
    "for i in index:\n",
    "    index_value = i.find('tspan', {'style' : 'font-weight:bold'}).text\n",
    "print(index_value)\n",
    "'''\n",
    "\n"
   ]
  },
  {
   "cell_type": "code",
   "execution_count": null,
   "metadata": {},
   "outputs": [],
   "source": [
    "'''\n",
    "for i in index:\n",
    "    index_name = i.find('tbody', {'class': 'ng-star-inserted'}).text\n",
    "    print(index_name)\n",
    "'''"
   ]
  },
  {
   "cell_type": "code",
   "execution_count": null,
   "metadata": {},
   "outputs": [],
   "source": []
  }
 ],
 "metadata": {
  "kernelspec": {
   "display_name": "Python 3",
   "language": "python",
   "name": "python3"
  },
  "language_info": {
   "codemirror_mode": {
    "name": "ipython",
    "version": 3
   },
   "file_extension": ".py",
   "mimetype": "text/x-python",
   "name": "python",
   "nbconvert_exporter": "python",
   "pygments_lexer": "ipython3",
   "version": "3.8.3"
  }
 },
 "nbformat": 4,
 "nbformat_minor": 4
}
